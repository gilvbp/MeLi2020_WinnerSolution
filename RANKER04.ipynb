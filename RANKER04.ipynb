{
 "cells": [
  {
   "cell_type": "code",
   "execution_count": 1,
   "metadata": {},
   "outputs": [],
   "source": [
    "# data manipulation\n",
    "import numpy as np\n",
    "import pandas as pd\n",
    "import json\n",
    "from scipy import sparse"
   ]
  },
  {
   "cell_type": "code",
   "execution_count": 2,
   "metadata": {},
   "outputs": [],
   "source": [
    "# data pipeline\n",
    "from sklearn.model_selection import StratifiedKFold, KFold"
   ]
  },
  {
   "cell_type": "code",
   "execution_count": 3,
   "metadata": {},
   "outputs": [],
   "source": [
    "# metrics\n",
    "from sklearn.metrics import accuracy_score, roc_auc_score, balanced_accuracy_score\n",
    "from sklearn.metrics import roc_curve"
   ]
  },
  {
   "cell_type": "code",
   "execution_count": 4,
   "metadata": {},
   "outputs": [
    {
     "name": "stderr",
     "output_type": "stream",
     "text": [
      "D:\\WindowsPrograms\\envs\\meli\\lib\\site-packages\\sklearn\\utils\\deprecation.py:143: FutureWarning: The sklearn.metrics.scorer module is  deprecated in version 0.22 and will be removed in version 0.24. The corresponding classes / functions should instead be imported from sklearn.metrics. Anything that cannot be imported from sklearn.metrics is now part of the private API.\n",
      "  warnings.warn(message, FutureWarning)\n",
      "D:\\WindowsPrograms\\envs\\meli\\lib\\site-packages\\sklearn\\utils\\deprecation.py:143: FutureWarning: The sklearn.feature_selection.base module is  deprecated in version 0.22 and will be removed in version 0.24. The corresponding classes / functions should instead be imported from sklearn.feature_selection. Anything that cannot be imported from sklearn.feature_selection is now part of the private API.\n",
      "  warnings.warn(message, FutureWarning)\n"
     ]
    }
   ],
   "source": [
    "# utils\n",
    "from collections import Counter\n",
    "import matplotlib.pyplot as plt\n"
   ]
  },
  {
   "cell_type": "code",
   "execution_count": 53,
   "metadata": {},
   "outputs": [],
   "source": [
    "# preprocessing\n",
    "from sklearn.feature_extraction import DictVectorizer\n",
    "from sklearn.feature_extraction.text import CountVectorizer\n",
    "from sklearn.feature_extraction.text import TfidfTransformer\n",
    "\n",
    "import igraph"
   ]
  },
  {
   "cell_type": "code",
   "execution_count": 6,
   "metadata": {},
   "outputs": [],
   "source": [
    "# models\n",
    "\n",
    "from sklearn.neighbors import KNeighborsClassifier"
   ]
  },
  {
   "cell_type": "code",
   "execution_count": 7,
   "metadata": {},
   "outputs": [],
   "source": [
    "# hardcore models\n",
    "import xgboost as xgb\n",
    "import catboost as cat\n",
    "import lightgbm as lgb"
   ]
  },
  {
   "cell_type": "markdown",
   "metadata": {},
   "source": [
    "<hr>"
   ]
  },
  {
   "cell_type": "markdown",
   "metadata": {},
   "source": [
    "## Data loading and other useful stuffs"
   ]
  },
  {
   "cell_type": "code",
   "execution_count": 8,
   "metadata": {},
   "outputs": [],
   "source": [
    "data_train = pd.read_json(\"data/train_dataset.jl\", lines=True)"
   ]
  },
  {
   "cell_type": "code",
   "execution_count": 9,
   "metadata": {},
   "outputs": [
    {
     "name": "stderr",
     "output_type": "stream",
     "text": [
      "D:\\WindowsPrograms\\envs\\meli\\lib\\site-packages\\ipykernel_launcher.py:3: DeprecationWarning: parsing timezone aware datetimes is deprecated; this will raise an error in the future\n",
      "  This is separate from the ipykernel package so we can avoid doing imports until\n"
     ]
    },
    {
     "name": "stdout",
     "output_type": "stream",
     "text": [
      "Wall time: 24 s\n"
     ]
    }
   ],
   "source": [
    "%%time\n",
    "for sess in data_train[\"user_history\"].values:\n",
    "    for event in sess:\n",
    "        event[\"event_timestamp\"] = np.datetime64(event[\"event_timestamp\"])"
   ]
  },
  {
   "cell_type": "code",
   "execution_count": 10,
   "metadata": {},
   "outputs": [],
   "source": [
    "data_items = pd.read_json(\"data/item_data.jl\", lines=True)"
   ]
  },
  {
   "cell_type": "code",
   "execution_count": 11,
   "metadata": {},
   "outputs": [],
   "source": [
    "data_test = pd.read_json(\"data/test_dataset.jl\", lines=True)"
   ]
  },
  {
   "cell_type": "code",
   "execution_count": 12,
   "metadata": {},
   "outputs": [
    {
     "name": "stderr",
     "output_type": "stream",
     "text": [
      "D:\\WindowsPrograms\\envs\\meli\\lib\\site-packages\\ipykernel_launcher.py:3: DeprecationWarning: parsing timezone aware datetimes is deprecated; this will raise an error in the future\n",
      "  This is separate from the ipykernel package so we can avoid doing imports until\n"
     ]
    },
    {
     "name": "stdout",
     "output_type": "stream",
     "text": [
      "Wall time: 11.4 s\n"
     ]
    }
   ],
   "source": [
    "%%time\n",
    "for sess in data_test[\"user_history\"].values:\n",
    "    for event in sess:\n",
    "        event[\"event_timestamp\"] = np.datetime64(event[\"event_timestamp\"])"
   ]
  },
  {
   "cell_type": "code",
   "execution_count": null,
   "metadata": {},
   "outputs": [],
   "source": []
  },
  {
   "cell_type": "code",
   "execution_count": 13,
   "metadata": {},
   "outputs": [],
   "source": [
    "# item features"
   ]
  },
  {
   "cell_type": "code",
   "execution_count": 14,
   "metadata": {},
   "outputs": [],
   "source": [
    "data_items.set_index(\"item_id\", inplace = True)"
   ]
  },
  {
   "cell_type": "code",
   "execution_count": 15,
   "metadata": {},
   "outputs": [
    {
     "data": {
      "text/plain": [
       "7893"
      ]
     },
     "execution_count": 15,
     "metadata": {},
     "output_type": "execute_result"
    }
   ],
   "source": [
    "data_items[\"domain_id\"].nunique()"
   ]
  },
  {
   "cell_type": "code",
   "execution_count": 16,
   "metadata": {},
   "outputs": [
    {
     "data": {
      "text/plain": [
       "0.00016125372631675084"
      ]
     },
     "execution_count": 16,
     "metadata": {},
     "output_type": "execute_result"
    }
   ],
   "source": [
    "data_items[\"price\"].isna().mean()"
   ]
  },
  {
   "cell_type": "code",
   "execution_count": 17,
   "metadata": {},
   "outputs": [],
   "source": [
    "data_items_price = data_items[\"price\"]\n",
    "data_items_price.dropna(inplace = True)"
   ]
  },
  {
   "cell_type": "code",
   "execution_count": 19,
   "metadata": {},
   "outputs": [],
   "source": [
    "itemPrice = data_items_price.to_dict()        \n",
    "\n",
    "itemDomain = data_items[\"domain_id\"].to_dict()\n",
    "\n",
    "for i, d in itemDomain.items():\n",
    "    if d is None:\n",
    "        itemDomain[i] = \"<UNKN>\"\n",
    "\n",
    "itemCondition = data_items[\"condition\"].map({\"new\" : 1, \"used\" : 0, None : -1}).to_dict()\n",
    "\n",
    "for i, d in itemCondition.items():\n",
    "    if d is None:\n",
    "        print(a)"
   ]
  },
  {
   "cell_type": "code",
   "execution_count": 20,
   "metadata": {},
   "outputs": [],
   "source": [
    "uhs_train = data_train[\"user_history\"].values\n",
    "target = data_train[\"item_bought\"].values\n",
    "uhs_test= data_test[\"user_history\"].values"
   ]
  },
  {
   "cell_type": "code",
   "execution_count": 21,
   "metadata": {},
   "outputs": [],
   "source": [
    "domain = np.vectorize(itemDomain.get)(target)"
   ]
  },
  {
   "cell_type": "code",
   "execution_count": 22,
   "metadata": {},
   "outputs": [],
   "source": [
    "domainCode = dict()\n",
    "for i, dom in enumerate(set(domain)):\n",
    "    domainCode[dom] = i"
   ]
  },
  {
   "cell_type": "code",
   "execution_count": 23,
   "metadata": {
    "scrolled": false
   },
   "outputs": [
    {
     "data": {
      "text/plain": [
       "MLB-CELLPHONES                       0.060678\n",
       "MLB-SNEAKERS                         0.035357\n",
       "MLB-SUPPLEMENTS                      0.023143\n",
       "MLB-HEADPHONES                       0.021911\n",
       "MLB-SMARTWATCHES                     0.019273\n",
       "                                       ...   \n",
       "MLM-TONER_REFILLS                    0.000002\n",
       "MLM-MOTORCYCLE_TURN_SIGNAL_LIGHTS    0.000002\n",
       "MLM-WASTE_BASKETS                    0.000002\n",
       "MLB-GARMENT_COVERS                   0.000002\n",
       "MLM-SOLDERING_MACHINES               0.000002\n",
       "Length: 3214, dtype: float64"
      ]
     },
     "execution_count": 23,
     "metadata": {},
     "output_type": "execute_result"
    }
   ],
   "source": [
    "pd.Series(domain).value_counts(normalize=True)"
   ]
  },
  {
   "cell_type": "code",
   "execution_count": 24,
   "metadata": {},
   "outputs": [],
   "source": [
    "most_bought_domain = pd.Series(domain).value_counts().idxmax()"
   ]
  },
  {
   "cell_type": "code",
   "execution_count": 25,
   "metadata": {},
   "outputs": [
    {
     "data": {
      "text/plain": [
       "'MLB-CELLPHONES'"
      ]
     },
     "execution_count": 25,
     "metadata": {},
     "output_type": "execute_result"
    }
   ],
   "source": [
    "most_bought_domain"
   ]
  },
  {
   "cell_type": "code",
   "execution_count": 26,
   "metadata": {},
   "outputs": [],
   "source": [
    "topDomainTop20itens = list(pd.Series(target[domain == most_bought_domain]).value_counts(ascending=False).index[:20])"
   ]
  },
  {
   "cell_type": "code",
   "execution_count": 27,
   "metadata": {},
   "outputs": [],
   "source": [
    "domItemFreq = dict()\n",
    "for i, d in zip(target, domain):\n",
    "    domItemFreq[d] = domItemFreq.get(d, list()) + [i]"
   ]
  },
  {
   "cell_type": "code",
   "execution_count": 28,
   "metadata": {},
   "outputs": [],
   "source": [
    "top20domItems = dict()\n",
    "for d, ilist in domItemFreq.items():\n",
    "    top20domItems[d] = list(pd.Series(ilist).value_counts().index[:20])"
   ]
  },
  {
   "cell_type": "code",
   "execution_count": 29,
   "metadata": {},
   "outputs": [],
   "source": [
    "itemAsLabelCount = pd.Series(target).value_counts().to_dict()\n",
    "most_sold = pd.Series(itemAsLabelCount).idxmax()"
   ]
  },
  {
   "cell_type": "code",
   "execution_count": 30,
   "metadata": {},
   "outputs": [
    {
     "data": {
      "text/plain": [
       "'MLB-HEADPHONES'"
      ]
     },
     "execution_count": 30,
     "metadata": {},
     "output_type": "execute_result"
    }
   ],
   "source": [
    "itemDomain[most_sold]"
   ]
  },
  {
   "cell_type": "code",
   "execution_count": 31,
   "metadata": {},
   "outputs": [],
   "source": [
    "topDomainTop10itens = list(pd.Series(target[domain == most_bought_domain]).value_counts(ascending=False).index[:10])"
   ]
  },
  {
   "cell_type": "code",
   "execution_count": 32,
   "metadata": {},
   "outputs": [
    {
     "data": {
      "text/plain": [
       "[859574,\n",
       " 1371799,\n",
       " 119703,\n",
       " 1332849,\n",
       " 882697,\n",
       " 1098739,\n",
       " 98853,\n",
       " 790888,\n",
       " 967194,\n",
       " 1595373]"
      ]
     },
     "execution_count": 32,
     "metadata": {},
     "output_type": "execute_result"
    }
   ],
   "source": [
    "topDomainTop10itens"
   ]
  },
  {
   "cell_type": "code",
   "execution_count": 33,
   "metadata": {},
   "outputs": [],
   "source": [
    "cumsum = pd.Series(target).value_counts(normalize = True).cumsum()"
   ]
  },
  {
   "cell_type": "code",
   "execution_count": 34,
   "metadata": {},
   "outputs": [
    {
     "name": "stdout",
     "output_type": "stream",
     "text": [
      "Wall time: 7.57 s\n"
     ]
    }
   ],
   "source": [
    "%%time\n",
    "\n",
    "queries = []\n",
    "viewed_items = []\n",
    "viewed_domains = []\n",
    "num_queries = []\n",
    "for session in uhs_train:\n",
    "    session_viewed_items = dict()\n",
    "    session_viewed_domains = dict()\n",
    "    session_queries = []\n",
    "    s = 0\n",
    "    for event in session:\n",
    "        if event[\"event_type\"] == \"view\":\n",
    "            item_seen = event[\"event_info\"]\n",
    "            session_viewed_items[item_seen] = session_viewed_items.get(item_seen, 0) + 1\n",
    "            domain_seen = itemDomain[item_seen]\n",
    "            domain_seen = \"<UKNW>\" if domain_seen is None else domain_seen\n",
    "            session_viewed_domains[domain_seen] = session_viewed_domains.get(domain_seen, 0) + 1\n",
    "        else:\n",
    "            session_queries.append(event[\"event_info\"])\n",
    "            s += 1\n",
    "    viewed_items.append(session_viewed_items)\n",
    "    viewed_domains.append(session_viewed_domains)\n",
    "    queries.append(\" \".join(session_queries))\n",
    "    num_queries.append(s)"
   ]
  },
  {
   "cell_type": "code",
   "execution_count": 35,
   "metadata": {},
   "outputs": [],
   "source": [
    "sessions_length = np.vectorize(len)(uhs_train)"
   ]
  },
  {
   "cell_type": "code",
   "execution_count": 36,
   "metadata": {},
   "outputs": [],
   "source": [
    "num_viewed = np.vectorize(len)(viewed_items)"
   ]
  },
  {
   "cell_type": "code",
   "execution_count": 37,
   "metadata": {},
   "outputs": [],
   "source": [
    "num_queries = np.array(num_queries)"
   ]
  },
  {
   "cell_type": "code",
   "execution_count": null,
   "metadata": {},
   "outputs": [],
   "source": []
  },
  {
   "cell_type": "code",
   "execution_count": 38,
   "metadata": {},
   "outputs": [],
   "source": [
    "top1item = []\n",
    "isTopItem = np.zeros(len(target), int)\n",
    "containItemLabel = np.zeros(len(target), int)\n",
    "containDomainLabel = np.zeros(len(target), int)\n",
    "for i, (session, sessDoms, label, labelDom) in enumerate(zip(viewed_items, viewed_domains, target, domain)):\n",
    "    if len(session) > 0:\n",
    "        most = max(session, key = lambda k : session[k])\n",
    "    else:\n",
    "        most = -1\n",
    "        \n",
    "    labelDom\n",
    "    top1item.append(most)\n",
    "    isTopItem[i] = 1 if most == label else 0\n",
    "    containItemLabel[i] = 1 if label in session else 0\n",
    "    containDomainLabel[i] = 1 if labelDom in sessDoms else 0"
   ]
  },
  {
   "cell_type": "code",
   "execution_count": 39,
   "metadata": {},
   "outputs": [
    {
     "data": {
      "text/plain": [
       "(0.29388401187908886, 0.49340575027289474)"
      ]
     },
     "execution_count": 39,
     "metadata": {},
     "output_type": "execute_result"
    }
   ],
   "source": [
    "containItemLabel.mean(), containDomainLabel.mean()"
   ]
  },
  {
   "cell_type": "code",
   "execution_count": 40,
   "metadata": {},
   "outputs": [
    {
     "data": {
      "text/plain": [
       "0.1568267245614927"
      ]
     },
     "execution_count": 40,
     "metadata": {},
     "output_type": "execute_result"
    }
   ],
   "source": [
    "accuracy_score(target, top1item)"
   ]
  },
  {
   "cell_type": "code",
   "execution_count": null,
   "metadata": {},
   "outputs": [],
   "source": []
  },
  {
   "cell_type": "markdown",
   "metadata": {},
   "source": [
    "<hr>"
   ]
  },
  {
   "cell_type": "markdown",
   "metadata": {},
   "source": [
    "## Loading generated candidates"
   ]
  },
  {
   "cell_type": "code",
   "execution_count": 41,
   "metadata": {},
   "outputs": [],
   "source": [
    "# load knn results from files and filter rec ammount"
   ]
  },
  {
   "cell_type": "code",
   "execution_count": 42,
   "metadata": {},
   "outputs": [],
   "source": [
    "NN = 20\n",
    "inds_folds = []\n",
    "recomms_folds = []\n",
    "dists_folds = []\n",
    "for j in range(5):\n",
    "    temp_inds = pd.read_csv(\"data/knn/inds_%d.csv\" % j, header = None).values\n",
    "    temp_recomms = pd.read_csv(\"data/knn/recomms_%d.csv\" % j, header = None).values\n",
    "    temp_dists = pd.read_csv(\"data/knn/dists_%d.csv\" % j, header = None).values\n",
    "    inds_folds.append(temp_inds[:, :NN])\n",
    "    recomms_folds.append(temp_recomms[:, :NN])\n",
    "    dists_folds.append(temp_inds[:, :NN])"
   ]
  },
  {
   "cell_type": "code",
   "execution_count": null,
   "metadata": {},
   "outputs": [],
   "source": []
  },
  {
   "cell_type": "markdown",
   "metadata": {},
   "source": [
    "<hr>"
   ]
  },
  {
   "cell_type": "markdown",
   "metadata": {},
   "source": [
    "## Functions to add features to the ranker"
   ]
  },
  {
   "cell_type": "code",
   "execution_count": 43,
   "metadata": {},
   "outputs": [],
   "source": [
    "def get_vista_compra(uhs_train, target):\n",
    "    vista_compra = dict()\n",
    "    for session, label in zip(uhs_train, target):\n",
    "        unique_items = set(event[\"event_info\"] for event in session if event[\"event_type\"] == \"view\")\n",
    "        for item in unique_items:\n",
    "            if item not in vista_compra:\n",
    "                vista_compra[item] = dict()\n",
    "            vista_compra[item][label] = vista_compra[item].get(label, 0) + 1\n",
    "    return vista_compra\n",
    "\n",
    "def get_vista_compra_power(uhs_train, target):\n",
    "    vista_compra = dict()\n",
    "    for session, label in zip(uhs_train, target):\n",
    "        unique_items = set(event[\"event_info\"] for event in session if event[\"event_type\"] == \"view\")\n",
    "        for item in unique_items:\n",
    "            if item not in vista_compra:\n",
    "                vista_compra[item] = dict()\n",
    "            vista_compra[item][label] = vista_compra[item].get(label, 0) + np.log(len(unique_items))\n",
    "    return vista_compra\n",
    "\n",
    "def get_vista_compra_l10(uhs_train, target):\n",
    "    vista_compra = dict()\n",
    "    for session, label in zip(uhs_train, target):\n",
    "        view_events = [event for event in session if event[\"event_type\"] == \"view\"]\n",
    "        unique_items = set()\n",
    "        unique_order = []\n",
    "        for event in view_events[::-1]:\n",
    "            item_seen = event[\"event_info\"]\n",
    "            if item_seen not in unique_items:\n",
    "                unique_items.add(item_seen)\n",
    "                unique_order.append(item_seen)\n",
    "            if len(unique_order) >= 10:\n",
    "                break\n",
    "        \n",
    "        for item in unique_items:\n",
    "            if item not in vista_compra:\n",
    "                vista_compra[item] = dict()\n",
    "            vista_compra[item][label] = vista_compra[item].get(label, 0) + 1\n",
    "    return vista_compra\n",
    "\n",
    "def get_vista_count(uhs_train):\n",
    "    vista_count = dict()\n",
    "    for session in uhs_train:\n",
    "        unique_items = set(event[\"event_info\"] for event in session if event[\"event_type\"] == \"view\")\n",
    "        for item in unique_items:\n",
    "            vista_count[item] = vista_count.get(item, 0) + 1\n",
    "    return vista_count\n",
    "\n",
    "def get_compra_count_power(uhs_train, target):\n",
    "    compra_count = dict()\n",
    "    for session, label in zip(uhs_train, target):\n",
    "        unique_items = set(event[\"event_info\"] for event in session if event[\"event_type\"] == \"view\")\n",
    "        if label in unique_items:\n",
    "            compra_count[label] = compra_count.get(label, 0) + 1 + np.log(len(unique_items))\n",
    "    return compra_count"
   ]
  },
  {
   "cell_type": "code",
   "execution_count": 179,
   "metadata": {},
   "outputs": [],
   "source": [
    "def get_graphdata(uhs):\n",
    "    graph_data = []\n",
    "    \n",
    "    for session in uhs:\n",
    "        \n",
    "        graph = igraph.Graph(directed = True)\n",
    "        \n",
    "        item_seq = [event[\"event_info\"] for event in session if event[\"event_type\"] == \"view\"]\n",
    "        # lets start with just items\n",
    "        \n",
    "        sess_code = 0 # counter to name itens in sess code\n",
    "        visited = dict() # stores sess codes\n",
    "        stml = dict()\n",
    "        item_seq_sess = [] # the actual sequence in sess code\n",
    "        for item in item_seq:\n",
    "            if item not in visited:\n",
    "                visited[item] = sess_code\n",
    "                stml[sess_code] = item\n",
    "                sess_code += 1\n",
    "                \n",
    "            item_seq_sess.append(visited[item])\n",
    "            \n",
    "        source_nodes = item_seq_sess[:-1]\n",
    "        target_nodes = item_seq_sess[1: ]\n",
    "        edges = [(ns, nt) for ns, nt in zip(source_nodes, target_nodes)]\n",
    "        graph.add_vertices(len(visited))\n",
    "        graph.add_edges(edges)\n",
    "        \n",
    "        last = item_seq_sess[-1] if len(item_seq_sess) > 0 else None\n",
    "        \n",
    "        graph_data.append((graph, stml, visited, last))\n",
    "        \n",
    "    return  graph_data"
   ]
  },
  {
   "cell_type": "code",
   "execution_count": 180,
   "metadata": {},
   "outputs": [
    {
     "name": "stdout",
     "output_type": "stream",
     "text": [
      "Wall time: 10.5 s\n"
     ]
    }
   ],
   "source": [
    "%%time\n",
    "graph_data_full = get_graphdata(uhs_train)"
   ]
  },
  {
   "cell_type": "code",
   "execution_count": 309,
   "metadata": {},
   "outputs": [],
   "source": [
    "def get_sess_node_features(graph_data):\n",
    "    sess_node_features = []\n",
    "\n",
    "    for sess_id, (graph, stml, mlts, last) in enumerate(graph_data):\n",
    "\n",
    "        graph_und = graph.copy()\n",
    "        graph_und.to_undirected()\n",
    "\n",
    "        features_list = [\n",
    "            graph.indegree(),\n",
    "            graph.outdegree(),\n",
    "            graph.betweenness(),\n",
    "            graph.pagerank(),\n",
    "            graph_und.eigenvector_centrality(),\n",
    "            list(np.array(graph_und.shortest_paths_dijkstra(target = last)).ravel()),\n",
    "            graph_und.closeness(),\n",
    "            \n",
    "        ]\n",
    "\n",
    "        features = np.column_stack(features_list)\n",
    "        if features.shape != (len(stml), len(features_list)):\n",
    "            print(features)\n",
    "\n",
    "        node_features = dict()\n",
    "        for i, f in enumerate(features):\n",
    "            node_features[stml[i]] = f\n",
    "\n",
    "        sess_node_features.append(node_features)\n",
    "    \n",
    "    return sess_node_features"
   ]
  },
  {
   "cell_type": "code",
   "execution_count": 310,
   "metadata": {},
   "outputs": [
    {
     "name": "stdout",
     "output_type": "stream",
     "text": [
      "Wall time: 1min 5s\n"
     ]
    }
   ],
   "source": [
    "%%time\n",
    "sess_node_features_full = np.array(get_sess_node_features(graph_data_full))"
   ]
  },
  {
   "cell_type": "code",
   "execution_count": 311,
   "metadata": {},
   "outputs": [
    {
     "data": {
      "text/plain": [
       "7"
      ]
     },
     "execution_count": 311,
     "metadata": {},
     "output_type": "execute_result"
    }
   ],
   "source": [
    "num_gfeatures = len(next(iter(sess_node_features_full[0].values()))) # might not always work\n",
    "num_gfeatures"
   ]
  },
  {
   "cell_type": "code",
   "execution_count": null,
   "metadata": {},
   "outputs": [],
   "source": []
  },
  {
   "cell_type": "code",
   "execution_count": 312,
   "metadata": {},
   "outputs": [],
   "source": [
    "def get_item_ds(uhs_train, vista_compra, vista_count, compra_count, domain_count,\n",
    "                knnrecs, knndists, session_id, node_features_list):\n",
    "    item_ds = []\n",
    "    for sess_id, session, sess_knnrecs, sess_knndists, node_features in zip(session_id, X_test,\n",
    "                                                                            knnrecs, knndists, node_features_list):\n",
    "\n",
    "        unique_recs = []\n",
    "        unique_recsdist = dict()\n",
    "        unique_recsCount = dict()\n",
    "        negOnes = 0\n",
    "        for r, d in zip(sess_knnrecs, sess_knndists):\n",
    "            if r != -1:\n",
    "                if r not in unique_recsdist:\n",
    "                    unique_recs.append(r)\n",
    "                    unique_recsdist[r] = d\n",
    "                    unique_recsCount[r]  = 1\n",
    "                else:\n",
    "                    unique_recsCount[r]  += 1\n",
    "            else:\n",
    "                negOnes += 1\n",
    "        negOnetop = sess_knnrecs[0] == -1\n",
    "        \n",
    "        assert len(unique_recs) == len(unique_recsdist), \"repeated knn recomms!\"\n",
    "                \n",
    "        view_events = [event for event in session if event[\"event_type\"] == \"view\"]\n",
    "        \n",
    "        num_queries = len(session) - len(view_events)\n",
    "        unique_set = set()\n",
    "        count = dict()\n",
    "        unique_order = []\n",
    "        insess_seq = dict()\n",
    "        visited_twice = set()\n",
    "        visited_twice_list = []\n",
    "        special_selected = []\n",
    "        for i, event in enumerate(view_events[::-1]):\n",
    "            item_seen = event[\"event_info\"]\n",
    "            item = item_seen\n",
    "            if item_seen not in unique_set:\n",
    "                unique_set.add(item_seen)\n",
    "                unique_order.append(item_seen)\n",
    "            elif item not in visited_twice:\n",
    "                visited_twice.add(item)\n",
    "                visited_twice_list.append(item)\n",
    "            count[item_seen] = count.get(item_seen, 0) + 1\n",
    "            insess_seq[item_seen] = i\n",
    "\n",
    "        sel_items = unique_order[:10]\n",
    "        \n",
    "        last_repeated = None\n",
    "        if len(visited_twice_list) > 0:\n",
    "            last_repeated = visited_twice_list[0]\n",
    "        \n",
    "        final_score = dict()\n",
    "        final_scoreDom = dict()\n",
    "        for vista in unique_order[:20]:\n",
    "            for compra, qtd in vista_compra.get(vista, dict()).items():\n",
    "                dom = itemDomain.get(compra, \"<UNKN>\")\n",
    "                final_score[compra] = final_score.get(compra, 0) + qtd\n",
    "                final_scoreDom[dom] = final_scoreDom.get(dom, 0) + qtd\n",
    "        \n",
    "        best = None\n",
    "        best_dom = None\n",
    "        most_seen = None\n",
    "        last_seen = None # last_seen if best was not last\n",
    "        pred_set = {}\n",
    "        pred = []\n",
    "        if len(sel_items) > 0:        \n",
    "            best = max(sel_items, key = lambda k : (compra_count.get(k, 0), itemCondition.get(k, 0)))\n",
    "            best_dom = itemDomain[best] # Careful with this line -> might need to change in the future\n",
    "            pred = [best]\n",
    "            pred_set = {best}\n",
    "\n",
    "            count2 = count.copy()\n",
    "            for p in pred:\n",
    "                if p in count2:\n",
    "                    count2.pop(p)    \n",
    "            if len(count2) > 0:\n",
    "                most_seen = max(count2, key = lambda k : (count2.get(k, 0), compra_count.get(k, 0)))\n",
    "                pred = pred + [most_seen]\n",
    "                pred_set.add(most_seen)\n",
    "\n",
    "\n",
    "            for item in sel_items:\n",
    "                if item not in pred_set and itemDomain[item] == best_dom:\n",
    "                    last_seen = item\n",
    "                    pred = pred + [last_seen]\n",
    "                    pred_set.add(last_seen)\n",
    "                break\n",
    "                \n",
    "        # get all suggestions:\n",
    "        unique_recs_filter = [item for item in unique_recs if item not in pred_set]\n",
    "        candids = pred + unique_recs_filter\n",
    "        \n",
    "        assert len(candids) == len(set(candids)), \"repeated candidates!\"\n",
    "\n",
    "        global num_gfeatures\n",
    "        # for each suggested item, get its features\n",
    "        block = []\n",
    "        for item in candids:\n",
    "#             vcomp = vista_compra.get(item, dict()).get(item, 0)\n",
    "            icdtion = itemCondition.get(item, -1)\n",
    "            if icdtion not in {0, 1, -1}:\n",
    "                icdtion = -1\n",
    "            ifeats = [\n",
    "                sess_id,\n",
    "                item,\n",
    "                # 2\n",
    "                item == best,       # is best\n",
    "                item == most_seen,  # is most viewed\n",
    "                item == last_seen,  # is last\n",
    "                insess_seq.get(item, len(session)),  # sess seq\n",
    "                count.get(item, 0), # view count\n",
    "                unique_recsdist.get(item, -1),       # dist\n",
    "                itemPrice.get(item, -1),             # price\n",
    "                compra_count.get(item, 0),           # compra count\n",
    "                vista_count.get(item, 0),            # vista count\n",
    "                unique_recsCount.get(item, 0),       # knn rec count\n",
    "                # 12\n",
    "                num_queries,\n",
    "                itemDomain.get(item, -1) == best_dom, #\n",
    "                itemDomain.get(item, -1) == itemDomain.get(most_seen, -2), #\n",
    "                final_score.get(item, 0),\n",
    "                icdtion,\n",
    "                negOnes,\n",
    "                negOnetop,\n",
    "                item == last_repeated,\n",
    "             ]\n",
    "            ifeats.extend(list(node_features.get(item, -np.ones(num_gfeatures))))\n",
    "            block.append(ifeats)\n",
    "\n",
    "\n",
    "        # get session features\n",
    "\n",
    "        # get item-session features\n",
    "\n",
    "        item_ds.extend(block)\n",
    "\n",
    "    return np.array(item_ds)"
   ]
  },
  {
   "cell_type": "code",
   "execution_count": 313,
   "metadata": {},
   "outputs": [],
   "source": [
    "def get_extra_ids_features(itemDataSet):\n",
    "    ids_df = pd.DataFrame(itemDataSet)\n",
    "    \n",
    "    # skip col 12\n",
    "    item_cols = [2, 3, 4, 5, 6, 7, 8, 9, 10, 11,   13, 14, 15, 16, 17, 18,   20, 21, 22, 23, \n",
    "                 24, 25, 26\n",
    "                ]\n",
    "    id_sess_max = ids_df.groupby(0)[item_cols].max()\n",
    "    id_sess_min = ids_df.groupby(0)[item_cols].min()\n",
    "    id_sess_mean = ids_df.groupby(0)[item_cols].mean()\n",
    "    # id_sess_nu = ids_df.groupby(0)[item_cols].nunique()\n",
    "    id_sess_len = ids_df.groupby(0).size()\n",
    "\n",
    "    id_sess_max.columns = [i + 50 for i in item_cols]\n",
    "    id_sess_min.columns = [i + 100 for i in item_cols]\n",
    "    id_sess_mean.columns = [i + 150 for i in item_cols]\n",
    "    # id_sess_nu.columns = [i + 200 for i in item_cols]\n",
    "    id_sess_len.rename(49, inplace=True);\n",
    "\n",
    "    temp = pd.concat([\n",
    "        id_sess_len,\n",
    "        id_sess_max,\n",
    "        id_sess_mean,\n",
    "    #     id_sess_nu,\n",
    "        id_sess_min\n",
    "    ], axis = 1)\n",
    "    ids_df = pd.merge(ids_df, temp, on=0)\n",
    "\n",
    "    # for i in item_cols:\n",
    "    #     # just do it for max -> min might have too many zeros\n",
    "    #     ids_df[i + 50 + 100] = ids_df[i] / ( ids_df[i + 50] + 1)\n",
    "    #     ids_df[i + 50 + 100].fillna(-1, inplace = True)\n",
    "\n",
    "    # for i in item_cols:\n",
    "    #     # this helps AUC, but in practice no better ranking\n",
    "    #     tempdict = pd.Series(ids_df[i]).value_counts().to_dict()\n",
    "    #     ids_df[i + 500] = np.vectorize(tempdict.get)(ids_df[i])\n",
    "    return ids_df.values"
   ]
  },
  {
   "cell_type": "markdown",
   "metadata": {},
   "source": [
    "<hr>"
   ]
  },
  {
   "cell_type": "markdown",
   "metadata": {},
   "source": [
    "## Running the ranker on 10% of data and validating on the other 10%\n",
    "(this is usefull for simplifying the tunning process)"
   ]
  },
  {
   "cell_type": "code",
   "execution_count": 45,
   "metadata": {},
   "outputs": [],
   "source": [
    "splitter = KFold(n_splits = 5, shuffle = False)\n",
    "splits = list(splitter.split(uhs_train, target, containItemLabel))"
   ]
  },
  {
   "cell_type": "code",
   "execution_count": 314,
   "metadata": {},
   "outputs": [],
   "source": [
    "session_id = np.arange(len(uhs_train))"
   ]
  },
  {
   "cell_type": "code",
   "execution_count": 315,
   "metadata": {},
   "outputs": [
    {
     "name": "stdout",
     "output_type": "stream",
     "text": [
      "0\n",
      "splitted\n",
      "X_train processed\n",
      "Got ids\n",
      "Wall time: 48.4 s\n"
     ]
    }
   ],
   "source": [
    "%%time\n",
    "temp_yfolds = []\n",
    "temp_Xfolds = []\n",
    "for j, (train_index, test_index) in enumerate(splits):\n",
    "    print(j)\n",
    "    \n",
    "    recomms_test = recomms_folds[j]\n",
    "    knndists_test = dists_folds[j]\n",
    "    \n",
    "    \n",
    "    X_train, y_train, ydom_train = uhs_train[train_index], target[train_index], domain[train_index]\n",
    "    X_test, y_test, ydom_test = uhs_train[test_index], target[test_index], domain[test_index]\n",
    "    session_id_test = session_id[test_index]\n",
    "    sess_node_features_test = sess_node_features_full[test_index]\n",
    "    \n",
    "    print(\"splitted\")\n",
    "\n",
    "    vista_compra_train = get_vista_compra_l10(X_train, y_train) #l10 here improves dom pos2\n",
    "    vista_count_train = get_vista_count(X_train)\n",
    "    compra_count_train = pd.Series(y_train).value_counts()\n",
    "    #     compra_count_train = get_compra_count_power(X_train, y_train)\n",
    "    domain_count_train = pd.Series(ydom_train).value_counts()\n",
    "    \n",
    "    print(\"X_train processed\")\n",
    "    \n",
    "    item_ds_test = get_item_ds(X_test,\n",
    "        vista_compra_train, vista_count_train, compra_count_train, domain_count_train,\n",
    "                               recomms_test, knndists_test, session_id_test, sess_node_features_test)\n",
    "    \n",
    "    print(\"Got ids\")\n",
    "    \n",
    "    ids_real_targets = target[item_ds_test[:, 0].astype(int)]\n",
    "\n",
    "    fold_y = 1 * (ids_real_targets == item_ds_test[:, 1].astype(int))\n",
    "    \n",
    "    fold_X = get_extra_ids_features(item_ds_test)\n",
    "    \n",
    "    temp_yfolds.append(fold_y)\n",
    "    temp_Xfolds.append(fold_X)\n",
    "    \n",
    "    break"
   ]
  },
  {
   "cell_type": "code",
   "execution_count": 316,
   "metadata": {},
   "outputs": [],
   "source": [
    "X = np.concatenate(temp_Xfolds, axis = 0)\n",
    "y = np.concatenate(temp_yfolds, axis = 0)"
   ]
  },
  {
   "cell_type": "code",
   "execution_count": 317,
   "metadata": {},
   "outputs": [
    {
     "data": {
      "text/plain": [
       "41316"
      ]
     },
     "execution_count": 317,
     "metadata": {},
     "output_type": "execute_result"
    }
   ],
   "source": [
    "zp = int(len(X_test) * .5)\n",
    "zp"
   ]
  },
  {
   "cell_type": "code",
   "execution_count": 318,
   "metadata": {},
   "outputs": [],
   "source": [
    "wp = -1\n",
    "initial_sess_id = X[0, 0]\n",
    "for i, sess_id in enumerate(X[:, 0]):\n",
    "    if (sess_id - initial_sess_id) == zp:\n",
    "        wp = i"
   ]
  },
  {
   "cell_type": "code",
   "execution_count": 319,
   "metadata": {},
   "outputs": [],
   "source": [
    "ids_X_train, ids_y_train, ids_item_train, ids_sess_train = X[:wp,2:], y[:wp], X[:wp, 1], X[:wp, 0]\n",
    "ids_X_test, ids_y_test, ids_item_test, ids_sess_test = X[wp:,2:], y[wp:], X[wp:, 1], X[wp:, 0]"
   ]
  },
  {
   "cell_type": "code",
   "execution_count": 320,
   "metadata": {
    "scrolled": true
   },
   "outputs": [
    {
     "name": "stdout",
     "output_type": "stream",
     "text": [
      "[0]\tvalidation_0-auc:0.93227\tvalidation_1-auc:0.92755\n",
      "[1]\tvalidation_0-auc:0.93350\tvalidation_1-auc:0.92830\n",
      "[2]\tvalidation_0-auc:0.93474\tvalidation_1-auc:0.92875\n",
      "[3]\tvalidation_0-auc:0.93741\tvalidation_1-auc:0.93177\n",
      "[4]\tvalidation_0-auc:0.93996\tvalidation_1-auc:0.93463\n",
      "[5]\tvalidation_0-auc:0.94082\tvalidation_1-auc:0.93554\n",
      "[6]\tvalidation_0-auc:0.94167\tvalidation_1-auc:0.93638\n",
      "[7]\tvalidation_0-auc:0.94207\tvalidation_1-auc:0.93672\n",
      "[8]\tvalidation_0-auc:0.94364\tvalidation_1-auc:0.93785\n",
      "[9]\tvalidation_0-auc:0.94425\tvalidation_1-auc:0.93821\n",
      "[10]\tvalidation_0-auc:0.94473\tvalidation_1-auc:0.93856\n",
      "[11]\tvalidation_0-auc:0.94531\tvalidation_1-auc:0.93880\n",
      "[12]\tvalidation_0-auc:0.94578\tvalidation_1-auc:0.93926\n",
      "[13]\tvalidation_0-auc:0.94623\tvalidation_1-auc:0.93945\n",
      "[14]\tvalidation_0-auc:0.94678\tvalidation_1-auc:0.93980\n",
      "[15]\tvalidation_0-auc:0.94784\tvalidation_1-auc:0.94024\n",
      "[16]\tvalidation_0-auc:0.94834\tvalidation_1-auc:0.94044\n",
      "[17]\tvalidation_0-auc:0.94887\tvalidation_1-auc:0.94057\n",
      "[18]\tvalidation_0-auc:0.94949\tvalidation_1-auc:0.94075\n",
      "[19]\tvalidation_0-auc:0.95029\tvalidation_1-auc:0.94130\n",
      "[20]\tvalidation_0-auc:0.95069\tvalidation_1-auc:0.94148\n",
      "[21]\tvalidation_0-auc:0.95134\tvalidation_1-auc:0.94188\n",
      "[22]\tvalidation_0-auc:0.95194\tvalidation_1-auc:0.94201\n",
      "[23]\tvalidation_0-auc:0.95253\tvalidation_1-auc:0.94228\n",
      "[24]\tvalidation_0-auc:0.95300\tvalidation_1-auc:0.94258\n",
      "[25]\tvalidation_0-auc:0.95341\tvalidation_1-auc:0.94272\n",
      "[26]\tvalidation_0-auc:0.95384\tvalidation_1-auc:0.94288\n",
      "[27]\tvalidation_0-auc:0.95410\tvalidation_1-auc:0.94291\n",
      "[28]\tvalidation_0-auc:0.95443\tvalidation_1-auc:0.94297\n",
      "[29]\tvalidation_0-auc:0.95478\tvalidation_1-auc:0.94302\n",
      "[30]\tvalidation_0-auc:0.95517\tvalidation_1-auc:0.94314\n",
      "[31]\tvalidation_0-auc:0.95550\tvalidation_1-auc:0.94323\n",
      "[32]\tvalidation_0-auc:0.95566\tvalidation_1-auc:0.94330\n",
      "[33]\tvalidation_0-auc:0.95576\tvalidation_1-auc:0.94330\n",
      "[34]\tvalidation_0-auc:0.95603\tvalidation_1-auc:0.94330\n",
      "[35]\tvalidation_0-auc:0.95622\tvalidation_1-auc:0.94329\n",
      "[36]\tvalidation_0-auc:0.95634\tvalidation_1-auc:0.94331\n",
      "[37]\tvalidation_0-auc:0.95639\tvalidation_1-auc:0.94335\n",
      "[38]\tvalidation_0-auc:0.95657\tvalidation_1-auc:0.94335\n",
      "[39]\tvalidation_0-auc:0.95681\tvalidation_1-auc:0.94334\n",
      "[40]\tvalidation_0-auc:0.95706\tvalidation_1-auc:0.94339\n",
      "[41]\tvalidation_0-auc:0.95711\tvalidation_1-auc:0.94335\n",
      "[42]\tvalidation_0-auc:0.95719\tvalidation_1-auc:0.94334\n",
      "[43]\tvalidation_0-auc:0.95726\tvalidation_1-auc:0.94334\n",
      "[44]\tvalidation_0-auc:0.95732\tvalidation_1-auc:0.94334\n",
      "[45]\tvalidation_0-auc:0.95754\tvalidation_1-auc:0.94339\n",
      "[46]\tvalidation_0-auc:0.95759\tvalidation_1-auc:0.94341\n",
      "[47]\tvalidation_0-auc:0.95766\tvalidation_1-auc:0.94342\n",
      "[48]\tvalidation_0-auc:0.95784\tvalidation_1-auc:0.94341\n",
      "[49]\tvalidation_0-auc:0.95802\tvalidation_1-auc:0.94339\n"
     ]
    },
    {
     "data": {
      "text/plain": [
       "XGBClassifier(base_score=0.5, booster='gbtree', colsample_bylevel=1,\n",
       "              colsample_bynode=1, colsample_bytree=1, gamma=0, gpu_id=-1,\n",
       "              importance_type='gain', interaction_constraints='',\n",
       "              learning_rate=0.300000012, max_delta_step=0, max_depth=6,\n",
       "              min_child_weight=15, missing=-1, monotone_constraints='()',\n",
       "              n_estimators=50, n_jobs=0, num_parallel_tree=1, random_state=0,\n",
       "              reg_alpha=0, reg_lambda=1, scale_pos_weight=1, subsample=1,\n",
       "              tree_method='exact', validate_parameters=1, verbosity=1)"
      ]
     },
     "execution_count": 320,
     "metadata": {},
     "output_type": "execute_result"
    }
   ],
   "source": [
    "clf_xgb = xgb.XGBClassifier(\n",
    "    n_estimators = 50, # 30 wo extra features\n",
    "    max_depth = 6,\n",
    "    missing = -1,\n",
    "    verbosity = 1,\n",
    "    min_child_weight = 15,\n",
    "#     objective='binary:logistic'\n",
    "#     reg_alpha = 2,\n",
    "#     reg_lambda = 8,\n",
    "    \n",
    ")\n",
    "clf_xgb.fit(\n",
    "    ids_X_train, ids_y_train,\n",
    "    eval_set=[(ids_X_train, ids_y_train), (ids_X_test, ids_y_test)],\n",
    "    eval_metric=\"auc\", verbose=True,\n",
    "#     sample_weight = ids_sw_train,\n",
    ")"
   ]
  },
  {
   "cell_type": "code",
   "execution_count": null,
   "metadata": {},
   "outputs": [],
   "source": []
  },
  {
   "cell_type": "code",
   "execution_count": 353,
   "metadata": {
    "scrolled": true
   },
   "outputs": [
    {
     "name": "stdout",
     "output_type": "stream",
     "text": [
      "Learning rate set to 0.152175\n",
      "0:\ttest: 0.8608368\ttest1: 0.8547883\tbest: 0.8547883 (0)\ttotal: 146ms\tremaining: 2m 25s\n",
      "10:\ttest: 0.9242070\ttest1: 0.9194293\tbest: 0.9194293 (10)\ttotal: 1.09s\tremaining: 1m 37s\n",
      "20:\ttest: 0.9301891\ttest1: 0.9253986\tbest: 0.9253986 (20)\ttotal: 2.03s\tremaining: 1m 34s\n",
      "30:\ttest: 0.9369064\ttest1: 0.9324935\tbest: 0.9324935 (30)\ttotal: 2.99s\tremaining: 1m 33s\n",
      "40:\ttest: 0.9390662\ttest1: 0.9340278\tbest: 0.9340278 (40)\ttotal: 3.94s\tremaining: 1m 32s\n",
      "50:\ttest: 0.9404391\ttest1: 0.9351637\tbest: 0.9351637 (50)\ttotal: 4.89s\tremaining: 1m 30s\n",
      "60:\ttest: 0.9417875\ttest1: 0.9363305\tbest: 0.9363305 (60)\ttotal: 5.85s\tremaining: 1m 30s\n",
      "70:\ttest: 0.9431764\ttest1: 0.9375978\tbest: 0.9375978 (70)\ttotal: 6.82s\tremaining: 1m 29s\n",
      "80:\ttest: 0.9438618\ttest1: 0.9381276\tbest: 0.9381276 (80)\ttotal: 7.79s\tremaining: 1m 28s\n",
      "90:\ttest: 0.9445166\ttest1: 0.9386119\tbest: 0.9386119 (90)\ttotal: 8.76s\tremaining: 1m 27s\n",
      "100:\ttest: 0.9448540\ttest1: 0.9387626\tbest: 0.9387626 (100)\ttotal: 9.7s\tremaining: 1m 26s\n",
      "110:\ttest: 0.9453330\ttest1: 0.9391172\tbest: 0.9391172 (110)\ttotal: 10.6s\tremaining: 1m 25s\n",
      "120:\ttest: 0.9457646\ttest1: 0.9393492\tbest: 0.9393492 (120)\ttotal: 11.6s\tremaining: 1m 24s\n",
      "130:\ttest: 0.9463493\ttest1: 0.9397111\tbest: 0.9397111 (130)\ttotal: 12.6s\tremaining: 1m 23s\n",
      "140:\ttest: 0.9467100\ttest1: 0.9397875\tbest: 0.9397875 (140)\ttotal: 13.5s\tremaining: 1m 22s\n",
      "150:\ttest: 0.9469568\ttest1: 0.9399063\tbest: 0.9399063 (150)\ttotal: 14.5s\tremaining: 1m 21s\n",
      "160:\ttest: 0.9472936\ttest1: 0.9400359\tbest: 0.9400359 (160)\ttotal: 15.5s\tremaining: 1m 20s\n",
      "170:\ttest: 0.9475608\ttest1: 0.9401332\tbest: 0.9401332 (170)\ttotal: 16.5s\tremaining: 1m 19s\n",
      "180:\ttest: 0.9481378\ttest1: 0.9404424\tbest: 0.9404424 (180)\ttotal: 17.4s\tremaining: 1m 18s\n",
      "190:\ttest: 0.9484377\ttest1: 0.9405417\tbest: 0.9405417 (190)\ttotal: 18.4s\tremaining: 1m 17s\n",
      "200:\ttest: 0.9487924\ttest1: 0.9407886\tbest: 0.9407886 (200)\ttotal: 19.3s\tremaining: 1m 16s\n",
      "210:\ttest: 0.9490733\ttest1: 0.9408240\tbest: 0.9408240 (210)\ttotal: 20.3s\tremaining: 1m 15s\n",
      "220:\ttest: 0.9493337\ttest1: 0.9408773\tbest: 0.9408773 (220)\ttotal: 21.2s\tremaining: 1m 14s\n",
      "230:\ttest: 0.9495923\ttest1: 0.9408910\tbest: 0.9408910 (230)\ttotal: 22.2s\tremaining: 1m 13s\n",
      "240:\ttest: 0.9498506\ttest1: 0.9409716\tbest: 0.9409716 (240)\ttotal: 23.2s\tremaining: 1m 13s\n",
      "250:\ttest: 0.9500956\ttest1: 0.9410523\tbest: 0.9410523 (250)\ttotal: 24.1s\tremaining: 1m 12s\n",
      "260:\ttest: 0.9504521\ttest1: 0.9412110\tbest: 0.9412110 (260)\ttotal: 25.1s\tremaining: 1m 11s\n",
      "270:\ttest: 0.9507199\ttest1: 0.9412571\tbest: 0.9412571 (270)\ttotal: 26.1s\tremaining: 1m 10s\n",
      "280:\ttest: 0.9509016\ttest1: 0.9412718\tbest: 0.9412718 (280)\ttotal: 27s\tremaining: 1m 9s\n",
      "290:\ttest: 0.9510836\ttest1: 0.9413080\tbest: 0.9413080 (290)\ttotal: 28s\tremaining: 1m 8s\n",
      "300:\ttest: 0.9513655\ttest1: 0.9413267\tbest: 0.9413267 (300)\ttotal: 29s\tremaining: 1m 7s\n",
      "310:\ttest: 0.9515800\ttest1: 0.9414207\tbest: 0.9414207 (310)\ttotal: 30s\tremaining: 1m 6s\n",
      "320:\ttest: 0.9518156\ttest1: 0.9414497\tbest: 0.9414497 (320)\ttotal: 30.9s\tremaining: 1m 5s\n",
      "330:\ttest: 0.9520039\ttest1: 0.9414563\tbest: 0.9414563 (330)\ttotal: 31.9s\tremaining: 1m 4s\n",
      "340:\ttest: 0.9521553\ttest1: 0.9414548\tbest: 0.9414563 (330)\ttotal: 32.8s\tremaining: 1m 3s\n",
      "350:\ttest: 0.9524060\ttest1: 0.9415411\tbest: 0.9415411 (350)\ttotal: 33.8s\tremaining: 1m 2s\n",
      "360:\ttest: 0.9525940\ttest1: 0.9415695\tbest: 0.9415695 (360)\ttotal: 34.7s\tremaining: 1m 1s\n",
      "370:\ttest: 0.9528858\ttest1: 0.9416920\tbest: 0.9416920 (370)\ttotal: 35.7s\tremaining: 1m\n",
      "380:\ttest: 0.9530602\ttest1: 0.9416904\tbest: 0.9416920 (370)\ttotal: 36.7s\tremaining: 59.6s\n",
      "390:\ttest: 0.9532795\ttest1: 0.9417099\tbest: 0.9417099 (390)\ttotal: 37.6s\tremaining: 58.6s\n",
      "400:\ttest: 0.9535044\ttest1: 0.9417668\tbest: 0.9417668 (400)\ttotal: 38.6s\tremaining: 57.7s\n",
      "410:\ttest: 0.9537224\ttest1: 0.9418390\tbest: 0.9418390 (410)\ttotal: 39.6s\tremaining: 56.7s\n",
      "420:\ttest: 0.9539107\ttest1: 0.9418806\tbest: 0.9418806 (420)\ttotal: 40.5s\tremaining: 55.7s\n",
      "430:\ttest: 0.9541042\ttest1: 0.9419062\tbest: 0.9419062 (430)\ttotal: 41.5s\tremaining: 54.7s\n",
      "440:\ttest: 0.9543425\ttest1: 0.9419498\tbest: 0.9419498 (440)\ttotal: 42.4s\tremaining: 53.8s\n",
      "450:\ttest: 0.9545120\ttest1: 0.9419292\tbest: 0.9419498 (440)\ttotal: 43.4s\tremaining: 52.8s\n",
      "460:\ttest: 0.9547033\ttest1: 0.9419535\tbest: 0.9419535 (460)\ttotal: 44.3s\tremaining: 51.8s\n",
      "470:\ttest: 0.9549109\ttest1: 0.9419905\tbest: 0.9419905 (470)\ttotal: 45.3s\tremaining: 50.9s\n",
      "480:\ttest: 0.9551450\ttest1: 0.9420491\tbest: 0.9420491 (480)\ttotal: 46.3s\tremaining: 49.9s\n",
      "490:\ttest: 0.9553310\ttest1: 0.9420616\tbest: 0.9420616 (490)\ttotal: 47.2s\tremaining: 49s\n",
      "500:\ttest: 0.9554742\ttest1: 0.9420732\tbest: 0.9420732 (500)\ttotal: 48.2s\tremaining: 48s\n",
      "510:\ttest: 0.9556792\ttest1: 0.9421203\tbest: 0.9421203 (510)\ttotal: 49.1s\tremaining: 47s\n",
      "520:\ttest: 0.9558389\ttest1: 0.9421287\tbest: 0.9421287 (520)\ttotal: 50.1s\tremaining: 46.1s\n",
      "530:\ttest: 0.9559911\ttest1: 0.9421236\tbest: 0.9421287 (520)\ttotal: 51.1s\tremaining: 45.1s\n",
      "540:\ttest: 0.9561695\ttest1: 0.9421507\tbest: 0.9421507 (540)\ttotal: 52s\tremaining: 44.1s\n",
      "550:\ttest: 0.9563999\ttest1: 0.9422290\tbest: 0.9422290 (550)\ttotal: 53s\tremaining: 43.2s\n",
      "560:\ttest: 0.9565576\ttest1: 0.9422642\tbest: 0.9422642 (560)\ttotal: 53.9s\tremaining: 42.2s\n",
      "570:\ttest: 0.9568075\ttest1: 0.9424151\tbest: 0.9424151 (570)\ttotal: 54.9s\tremaining: 41.2s\n",
      "580:\ttest: 0.9570735\ttest1: 0.9424604\tbest: 0.9424604 (580)\ttotal: 55.8s\tremaining: 40.3s\n",
      "590:\ttest: 0.9572138\ttest1: 0.9424564\tbest: 0.9424604 (580)\ttotal: 56.8s\tremaining: 39.3s\n",
      "600:\ttest: 0.9573404\ttest1: 0.9424525\tbest: 0.9424604 (580)\ttotal: 57.7s\tremaining: 38.3s\n",
      "610:\ttest: 0.9575000\ttest1: 0.9424688\tbest: 0.9424688 (610)\ttotal: 58.7s\tremaining: 37.4s\n",
      "620:\ttest: 0.9576545\ttest1: 0.9424775\tbest: 0.9424775 (620)\ttotal: 59.6s\tremaining: 36.4s\n",
      "630:\ttest: 0.9577914\ttest1: 0.9424554\tbest: 0.9424775 (620)\ttotal: 1m\tremaining: 35.4s\n",
      "640:\ttest: 0.9579268\ttest1: 0.9424423\tbest: 0.9424775 (620)\ttotal: 1m 1s\tremaining: 34.5s\n",
      "650:\ttest: 0.9581155\ttest1: 0.9424466\tbest: 0.9424775 (620)\ttotal: 1m 2s\tremaining: 33.5s\n",
      "660:\ttest: 0.9583280\ttest1: 0.9424873\tbest: 0.9424873 (660)\ttotal: 1m 3s\tremaining: 32.5s\n",
      "670:\ttest: 0.9584699\ttest1: 0.9424883\tbest: 0.9424883 (670)\ttotal: 1m 4s\tremaining: 31.6s\n",
      "680:\ttest: 0.9586706\ttest1: 0.9425127\tbest: 0.9425127 (680)\ttotal: 1m 5s\tremaining: 30.6s\n",
      "690:\ttest: 0.9588133\ttest1: 0.9425030\tbest: 0.9425127 (680)\ttotal: 1m 6s\tremaining: 29.6s\n",
      "700:\ttest: 0.9589633\ttest1: 0.9425181\tbest: 0.9425181 (700)\ttotal: 1m 7s\tremaining: 28.7s\n",
      "710:\ttest: 0.9591474\ttest1: 0.9425220\tbest: 0.9425220 (710)\ttotal: 1m 8s\tremaining: 27.7s\n",
      "720:\ttest: 0.9593621\ttest1: 0.9425352\tbest: 0.9425352 (720)\ttotal: 1m 9s\tremaining: 26.8s\n",
      "730:\ttest: 0.9595018\ttest1: 0.9425412\tbest: 0.9425412 (730)\ttotal: 1m 10s\tremaining: 25.8s\n",
      "740:\ttest: 0.9596550\ttest1: 0.9425307\tbest: 0.9425412 (730)\ttotal: 1m 11s\tremaining: 24.9s\n",
      "750:\ttest: 0.9597662\ttest1: 0.9425385\tbest: 0.9425412 (730)\ttotal: 1m 12s\tremaining: 23.9s\n",
      "760:\ttest: 0.9599084\ttest1: 0.9425560\tbest: 0.9425560 (760)\ttotal: 1m 13s\tremaining: 23s\n",
      "770:\ttest: 0.9600630\ttest1: 0.9426013\tbest: 0.9426013 (770)\ttotal: 1m 14s\tremaining: 22s\n",
      "780:\ttest: 0.9602045\ttest1: 0.9426167\tbest: 0.9426167 (780)\ttotal: 1m 15s\tremaining: 21s\n",
      "790:\ttest: 0.9603427\ttest1: 0.9426718\tbest: 0.9426718 (790)\ttotal: 1m 16s\tremaining: 20.1s\n",
      "800:\ttest: 0.9604551\ttest1: 0.9426513\tbest: 0.9426718 (790)\ttotal: 1m 16s\tremaining: 19.1s\n",
      "810:\ttest: 0.9606480\ttest1: 0.9426777\tbest: 0.9426777 (810)\ttotal: 1m 17s\tremaining: 18.2s\n",
      "820:\ttest: 0.9607736\ttest1: 0.9426756\tbest: 0.9426777 (810)\ttotal: 1m 18s\tremaining: 17.2s\n",
      "830:\ttest: 0.9609445\ttest1: 0.9426760\tbest: 0.9426777 (810)\ttotal: 1m 19s\tremaining: 16.2s\n",
      "840:\ttest: 0.9610762\ttest1: 0.9426807\tbest: 0.9426807 (840)\ttotal: 1m 20s\tremaining: 15.3s\n",
      "850:\ttest: 0.9612224\ttest1: 0.9426856\tbest: 0.9426856 (850)\ttotal: 1m 21s\tremaining: 14.3s\n",
      "860:\ttest: 0.9613544\ttest1: 0.9426644\tbest: 0.9426856 (850)\ttotal: 1m 22s\tremaining: 13.4s\n",
      "870:\ttest: 0.9615132\ttest1: 0.9426628\tbest: 0.9426856 (850)\ttotal: 1m 23s\tremaining: 12.4s\n",
      "880:\ttest: 0.9616580\ttest1: 0.9426564\tbest: 0.9426856 (850)\ttotal: 1m 24s\tremaining: 11.4s\n",
      "890:\ttest: 0.9617733\ttest1: 0.9426501\tbest: 0.9426856 (850)\ttotal: 1m 25s\tremaining: 10.5s\n",
      "900:\ttest: 0.9619329\ttest1: 0.9426519\tbest: 0.9426856 (850)\ttotal: 1m 26s\tremaining: 9.51s\n"
     ]
    },
    {
     "name": "stdout",
     "output_type": "stream",
     "text": [
      "910:\ttest: 0.9620550\ttest1: 0.9425947\tbest: 0.9426856 (850)\ttotal: 1m 27s\tremaining: 8.55s\n",
      "920:\ttest: 0.9622165\ttest1: 0.9425736\tbest: 0.9426856 (850)\ttotal: 1m 28s\tremaining: 7.59s\n",
      "930:\ttest: 0.9623265\ttest1: 0.9425558\tbest: 0.9426856 (850)\ttotal: 1m 29s\tremaining: 6.63s\n",
      "940:\ttest: 0.9624604\ttest1: 0.9425596\tbest: 0.9426856 (850)\ttotal: 1m 30s\tremaining: 5.67s\n",
      "950:\ttest: 0.9625502\ttest1: 0.9425503\tbest: 0.9426856 (850)\ttotal: 1m 31s\tremaining: 4.71s\n",
      "960:\ttest: 0.9627184\ttest1: 0.9425623\tbest: 0.9426856 (850)\ttotal: 1m 32s\tremaining: 3.75s\n",
      "970:\ttest: 0.9629260\ttest1: 0.9425836\tbest: 0.9426856 (850)\ttotal: 1m 33s\tremaining: 2.79s\n",
      "980:\ttest: 0.9630524\ttest1: 0.9425749\tbest: 0.9426856 (850)\ttotal: 1m 34s\tremaining: 1.82s\n",
      "990:\ttest: 0.9631656\ttest1: 0.9425669\tbest: 0.9426856 (850)\ttotal: 1m 35s\tremaining: 865ms\n",
      "999:\ttest: 0.9632802\ttest1: 0.9425673\tbest: 0.9426856 (850)\ttotal: 1m 36s\tremaining: 0us\n",
      "\n",
      "bestTest = 0.9426856065\n",
      "bestIteration = 850\n",
      "\n",
      "Shrink model to first 851 iterations.\n"
     ]
    },
    {
     "data": {
      "text/plain": [
       "<catboost.core.CatBoostClassifier at 0x2a73d567548>"
      ]
     },
     "execution_count": 353,
     "metadata": {},
     "output_type": "execute_result"
    }
   ],
   "source": [
    "clf_cat = cat.CatBoostClassifier(\n",
    "    eval_metric='AUC',\n",
    "    metric_period = 10,\n",
    ")\n",
    "clf_cat.fit(\n",
    "    ids_X_train, ids_y_train,\n",
    "    eval_set=[(ids_X_train, ids_y_train), (ids_X_test, ids_y_test)],\n",
    "#     eval_metric=\"auc\", verbose=True,\n",
    ")"
   ]
  },
  {
   "cell_type": "code",
   "execution_count": 335,
   "metadata": {
    "scrolled": true
   },
   "outputs": [
    {
     "name": "stdout",
     "output_type": "stream",
     "text": [
      "[1]\ttraining's auc: 0.902065\ttraining's binary_logloss: 0.0871024\tvalid_1's auc: 0.89739\tvalid_1's binary_logloss: 0.0876391\n",
      "[2]\ttraining's auc: 0.924077\ttraining's binary_logloss: 0.0823455\tvalid_1's auc: 0.919233\tvalid_1's binary_logloss: 0.0830117\n",
      "[3]\ttraining's auc: 0.933659\ttraining's binary_logloss: 0.0789373\tvalid_1's auc: 0.928893\tvalid_1's binary_logloss: 0.0796883\n",
      "[4]\ttraining's auc: 0.935012\ttraining's binary_logloss: 0.0762547\tvalid_1's auc: 0.930263\tvalid_1's binary_logloss: 0.0771027\n",
      "[5]\ttraining's auc: 0.936434\ttraining's binary_logloss: 0.0740833\tvalid_1's auc: 0.93198\tvalid_1's binary_logloss: 0.0749888\n",
      "[6]\ttraining's auc: 0.936936\ttraining's binary_logloss: 0.0722753\tvalid_1's auc: 0.932489\tvalid_1's binary_logloss: 0.0732376\n",
      "[7]\ttraining's auc: 0.937493\ttraining's binary_logloss: 0.0707986\tvalid_1's auc: 0.933117\tvalid_1's binary_logloss: 0.0718025\n",
      "[8]\ttraining's auc: 0.938006\ttraining's binary_logloss: 0.0695214\tvalid_1's auc: 0.93357\tvalid_1's binary_logloss: 0.07058\n",
      "[9]\ttraining's auc: 0.938274\ttraining's binary_logloss: 0.0684253\tvalid_1's auc: 0.933878\tvalid_1's binary_logloss: 0.069537\n",
      "[10]\ttraining's auc: 0.938697\ttraining's binary_logloss: 0.0674956\tvalid_1's auc: 0.934257\tvalid_1's binary_logloss: 0.0686497\n",
      "[11]\ttraining's auc: 0.939091\ttraining's binary_logloss: 0.0666909\tvalid_1's auc: 0.934411\tvalid_1's binary_logloss: 0.0679036\n",
      "[12]\ttraining's auc: 0.939368\ttraining's binary_logloss: 0.0659822\tvalid_1's auc: 0.934623\tvalid_1's binary_logloss: 0.0672425\n",
      "[13]\ttraining's auc: 0.940884\ttraining's binary_logloss: 0.0653499\tvalid_1's auc: 0.936236\tvalid_1's binary_logloss: 0.0666563\n",
      "[14]\ttraining's auc: 0.941117\ttraining's binary_logloss: 0.0647973\tvalid_1's auc: 0.936371\tvalid_1's binary_logloss: 0.0661551\n",
      "[15]\ttraining's auc: 0.94124\ttraining's binary_logloss: 0.0643102\tvalid_1's auc: 0.936464\tvalid_1's binary_logloss: 0.0657053\n",
      "[16]\ttraining's auc: 0.941393\ttraining's binary_logloss: 0.0638696\tvalid_1's auc: 0.936505\tvalid_1's binary_logloss: 0.0653176\n",
      "[17]\ttraining's auc: 0.941958\ttraining's binary_logloss: 0.0634822\tvalid_1's auc: 0.93692\tvalid_1's binary_logloss: 0.064976\n",
      "[18]\ttraining's auc: 0.942382\ttraining's binary_logloss: 0.063147\tvalid_1's auc: 0.937353\tvalid_1's binary_logloss: 0.0646625\n",
      "[19]\ttraining's auc: 0.942548\ttraining's binary_logloss: 0.0628324\tvalid_1's auc: 0.937467\tvalid_1's binary_logloss: 0.064402\n",
      "[20]\ttraining's auc: 0.942791\ttraining's binary_logloss: 0.0625579\tvalid_1's auc: 0.937615\tvalid_1's binary_logloss: 0.0641707\n",
      "[21]\ttraining's auc: 0.942926\ttraining's binary_logloss: 0.0622956\tvalid_1's auc: 0.937696\tvalid_1's binary_logloss: 0.0639527\n",
      "[22]\ttraining's auc: 0.943441\ttraining's binary_logloss: 0.0620681\tvalid_1's auc: 0.937965\tvalid_1's binary_logloss: 0.06378\n",
      "[23]\ttraining's auc: 0.943584\ttraining's binary_logloss: 0.0618605\tvalid_1's auc: 0.938119\tvalid_1's binary_logloss: 0.0636086\n",
      "[24]\ttraining's auc: 0.943954\ttraining's binary_logloss: 0.0616741\tvalid_1's auc: 0.938234\tvalid_1's binary_logloss: 0.0634749\n",
      "[25]\ttraining's auc: 0.944176\ttraining's binary_logloss: 0.0614926\tvalid_1's auc: 0.938347\tvalid_1's binary_logloss: 0.0633412\n",
      "[26]\ttraining's auc: 0.944434\ttraining's binary_logloss: 0.0613366\tvalid_1's auc: 0.938511\tvalid_1's binary_logloss: 0.0632308\n",
      "[27]\ttraining's auc: 0.944534\ttraining's binary_logloss: 0.0611857\tvalid_1's auc: 0.938579\tvalid_1's binary_logloss: 0.063121\n",
      "[28]\ttraining's auc: 0.944714\ttraining's binary_logloss: 0.0610446\tvalid_1's auc: 0.938717\tvalid_1's binary_logloss: 0.0630262\n",
      "[29]\ttraining's auc: 0.945934\ttraining's binary_logloss: 0.0609051\tvalid_1's auc: 0.939765\tvalid_1's binary_logloss: 0.0629232\n",
      "[30]\ttraining's auc: 0.946384\ttraining's binary_logloss: 0.0607757\tvalid_1's auc: 0.940086\tvalid_1's binary_logloss: 0.0628475\n",
      "[31]\ttraining's auc: 0.946591\ttraining's binary_logloss: 0.0606533\tvalid_1's auc: 0.940178\tvalid_1's binary_logloss: 0.0627629\n",
      "[32]\ttraining's auc: 0.94676\ttraining's binary_logloss: 0.0605414\tvalid_1's auc: 0.940271\tvalid_1's binary_logloss: 0.0626982\n",
      "[33]\ttraining's auc: 0.94698\ttraining's binary_logloss: 0.0604347\tvalid_1's auc: 0.940673\tvalid_1's binary_logloss: 0.0626261\n",
      "[34]\ttraining's auc: 0.947304\ttraining's binary_logloss: 0.0603305\tvalid_1's auc: 0.940867\tvalid_1's binary_logloss: 0.0625639\n",
      "[35]\ttraining's auc: 0.947612\ttraining's binary_logloss: 0.0602361\tvalid_1's auc: 0.940961\tvalid_1's binary_logloss: 0.0625183\n",
      "[36]\ttraining's auc: 0.947782\ttraining's binary_logloss: 0.0601374\tvalid_1's auc: 0.941056\tvalid_1's binary_logloss: 0.0624645\n",
      "[37]\ttraining's auc: 0.948188\ttraining's binary_logloss: 0.0600515\tvalid_1's auc: 0.941198\tvalid_1's binary_logloss: 0.0624296\n",
      "[38]\ttraining's auc: 0.948505\ttraining's binary_logloss: 0.0599669\tvalid_1's auc: 0.941226\tvalid_1's binary_logloss: 0.0623987\n",
      "[39]\ttraining's auc: 0.948619\ttraining's binary_logloss: 0.0598856\tvalid_1's auc: 0.941343\tvalid_1's binary_logloss: 0.062358\n",
      "[40]\ttraining's auc: 0.948711\ttraining's binary_logloss: 0.059805\tvalid_1's auc: 0.941417\tvalid_1's binary_logloss: 0.0623178\n",
      "[41]\ttraining's auc: 0.948942\ttraining's binary_logloss: 0.0597249\tvalid_1's auc: 0.941584\tvalid_1's binary_logloss: 0.0622806\n",
      "[42]\ttraining's auc: 0.949134\ttraining's binary_logloss: 0.0596582\tvalid_1's auc: 0.941644\tvalid_1's binary_logloss: 0.0622638\n",
      "[43]\ttraining's auc: 0.949194\ttraining's binary_logloss: 0.0595952\tvalid_1's auc: 0.941669\tvalid_1's binary_logloss: 0.0622434\n",
      "[44]\ttraining's auc: 0.949316\ttraining's binary_logloss: 0.0595286\tvalid_1's auc: 0.941756\tvalid_1's binary_logloss: 0.0622174\n",
      "[45]\ttraining's auc: 0.949576\ttraining's binary_logloss: 0.0594512\tvalid_1's auc: 0.941894\tvalid_1's binary_logloss: 0.0621862\n",
      "[46]\ttraining's auc: 0.949789\ttraining's binary_logloss: 0.0593873\tvalid_1's auc: 0.941907\tvalid_1's binary_logloss: 0.0621684\n",
      "[47]\ttraining's auc: 0.950052\ttraining's binary_logloss: 0.0593257\tvalid_1's auc: 0.941979\tvalid_1's binary_logloss: 0.0621519\n",
      "[48]\ttraining's auc: 0.950273\ttraining's binary_logloss: 0.0592578\tvalid_1's auc: 0.942086\tvalid_1's binary_logloss: 0.062131\n",
      "[49]\ttraining's auc: 0.950421\ttraining's binary_logloss: 0.0591986\tvalid_1's auc: 0.942161\tvalid_1's binary_logloss: 0.0621129\n",
      "[50]\ttraining's auc: 0.95054\ttraining's binary_logloss: 0.0591306\tvalid_1's auc: 0.942197\tvalid_1's binary_logloss: 0.062097\n",
      "[51]\ttraining's auc: 0.950706\ttraining's binary_logloss: 0.0590652\tvalid_1's auc: 0.942278\tvalid_1's binary_logloss: 0.0620726\n",
      "[52]\ttraining's auc: 0.950873\ttraining's binary_logloss: 0.0590033\tvalid_1's auc: 0.942311\tvalid_1's binary_logloss: 0.0620615\n",
      "[53]\ttraining's auc: 0.951067\ttraining's binary_logloss: 0.058941\tvalid_1's auc: 0.942338\tvalid_1's binary_logloss: 0.0620458\n",
      "[54]\ttraining's auc: 0.951185\ttraining's binary_logloss: 0.0588889\tvalid_1's auc: 0.942371\tvalid_1's binary_logloss: 0.0620327\n",
      "[55]\ttraining's auc: 0.951312\ttraining's binary_logloss: 0.0588389\tvalid_1's auc: 0.942393\tvalid_1's binary_logloss: 0.0620248\n",
      "[56]\ttraining's auc: 0.951415\ttraining's binary_logloss: 0.0587855\tvalid_1's auc: 0.942461\tvalid_1's binary_logloss: 0.0620113\n",
      "[57]\ttraining's auc: 0.951538\ttraining's binary_logloss: 0.0587239\tvalid_1's auc: 0.942527\tvalid_1's binary_logloss: 0.0619936\n",
      "[58]\ttraining's auc: 0.951655\ttraining's binary_logloss: 0.0586673\tvalid_1's auc: 0.942561\tvalid_1's binary_logloss: 0.0619838\n",
      "[59]\ttraining's auc: 0.951787\ttraining's binary_logloss: 0.0586144\tvalid_1's auc: 0.942606\tvalid_1's binary_logloss: 0.0619672\n",
      "[60]\ttraining's auc: 0.951877\ttraining's binary_logloss: 0.058564\tvalid_1's auc: 0.942643\tvalid_1's binary_logloss: 0.0619623\n",
      "[61]\ttraining's auc: 0.951981\ttraining's binary_logloss: 0.0585113\tvalid_1's auc: 0.942651\tvalid_1's binary_logloss: 0.0619565\n",
      "[62]\ttraining's auc: 0.952072\ttraining's binary_logloss: 0.0584652\tvalid_1's auc: 0.94265\tvalid_1's binary_logloss: 0.0619548\n",
      "[63]\ttraining's auc: 0.952343\ttraining's binary_logloss: 0.0584112\tvalid_1's auc: 0.942708\tvalid_1's binary_logloss: 0.0619439\n",
      "[64]\ttraining's auc: 0.952492\ttraining's binary_logloss: 0.0583591\tvalid_1's auc: 0.942725\tvalid_1's binary_logloss: 0.0619408\n",
      "[65]\ttraining's auc: 0.952646\ttraining's binary_logloss: 0.0583079\tvalid_1's auc: 0.94272\tvalid_1's binary_logloss: 0.0619412\n"
     ]
    },
    {
     "name": "stdout",
     "output_type": "stream",
     "text": [
      "[66]\ttraining's auc: 0.952837\ttraining's binary_logloss: 0.0582602\tvalid_1's auc: 0.942781\tvalid_1's binary_logloss: 0.0619296\n",
      "[67]\ttraining's auc: 0.952923\ttraining's binary_logloss: 0.0582125\tvalid_1's auc: 0.942828\tvalid_1's binary_logloss: 0.0619192\n",
      "[68]\ttraining's auc: 0.953036\ttraining's binary_logloss: 0.0581583\tvalid_1's auc: 0.942854\tvalid_1's binary_logloss: 0.0619079\n",
      "[69]\ttraining's auc: 0.953178\ttraining's binary_logloss: 0.0581115\tvalid_1's auc: 0.942856\tvalid_1's binary_logloss: 0.0619104\n",
      "[70]\ttraining's auc: 0.953257\ttraining's binary_logloss: 0.0580644\tvalid_1's auc: 0.942859\tvalid_1's binary_logloss: 0.0619038\n",
      "[71]\ttraining's auc: 0.953332\ttraining's binary_logloss: 0.0580266\tvalid_1's auc: 0.94289\tvalid_1's binary_logloss: 0.0618952\n",
      "[72]\ttraining's auc: 0.95342\ttraining's binary_logloss: 0.0579871\tvalid_1's auc: 0.942877\tvalid_1's binary_logloss: 0.0618942\n",
      "[73]\ttraining's auc: 0.95351\ttraining's binary_logloss: 0.0579368\tvalid_1's auc: 0.942909\tvalid_1's binary_logloss: 0.061883\n",
      "[74]\ttraining's auc: 0.953639\ttraining's binary_logloss: 0.0578901\tvalid_1's auc: 0.942959\tvalid_1's binary_logloss: 0.0618684\n",
      "[75]\ttraining's auc: 0.953693\ttraining's binary_logloss: 0.0578494\tvalid_1's auc: 0.942975\tvalid_1's binary_logloss: 0.0618691\n",
      "[76]\ttraining's auc: 0.953783\ttraining's binary_logloss: 0.0578017\tvalid_1's auc: 0.943003\tvalid_1's binary_logloss: 0.0618634\n",
      "[77]\ttraining's auc: 0.953879\ttraining's binary_logloss: 0.0577518\tvalid_1's auc: 0.943005\tvalid_1's binary_logloss: 0.0618574\n",
      "[78]\ttraining's auc: 0.954014\ttraining's binary_logloss: 0.0577079\tvalid_1's auc: 0.943035\tvalid_1's binary_logloss: 0.0618517\n",
      "[79]\ttraining's auc: 0.954104\ttraining's binary_logloss: 0.0576629\tvalid_1's auc: 0.943052\tvalid_1's binary_logloss: 0.0618494\n",
      "[80]\ttraining's auc: 0.954133\ttraining's binary_logloss: 0.0576195\tvalid_1's auc: 0.94305\tvalid_1's binary_logloss: 0.0618525\n",
      "[81]\ttraining's auc: 0.954223\ttraining's binary_logloss: 0.0575815\tvalid_1's auc: 0.943052\tvalid_1's binary_logloss: 0.0618476\n",
      "[82]\ttraining's auc: 0.954279\ttraining's binary_logloss: 0.0575417\tvalid_1's auc: 0.943056\tvalid_1's binary_logloss: 0.0618425\n",
      "[83]\ttraining's auc: 0.954331\ttraining's binary_logloss: 0.0575015\tvalid_1's auc: 0.943056\tvalid_1's binary_logloss: 0.0618373\n",
      "[84]\ttraining's auc: 0.954463\ttraining's binary_logloss: 0.0574579\tvalid_1's auc: 0.943039\tvalid_1's binary_logloss: 0.0618376\n",
      "[85]\ttraining's auc: 0.954597\ttraining's binary_logloss: 0.0574166\tvalid_1's auc: 0.943044\tvalid_1's binary_logloss: 0.0618386\n",
      "[86]\ttraining's auc: 0.954619\ttraining's binary_logloss: 0.0573777\tvalid_1's auc: 0.943045\tvalid_1's binary_logloss: 0.0618358\n",
      "[87]\ttraining's auc: 0.954719\ttraining's binary_logloss: 0.0573309\tvalid_1's auc: 0.943057\tvalid_1's binary_logloss: 0.0618281\n",
      "[88]\ttraining's auc: 0.954852\ttraining's binary_logloss: 0.0572837\tvalid_1's auc: 0.943105\tvalid_1's binary_logloss: 0.0618214\n",
      "[89]\ttraining's auc: 0.954911\ttraining's binary_logloss: 0.0572388\tvalid_1's auc: 0.943097\tvalid_1's binary_logloss: 0.0618199\n",
      "[90]\ttraining's auc: 0.95496\ttraining's binary_logloss: 0.0571895\tvalid_1's auc: 0.943118\tvalid_1's binary_logloss: 0.061814\n",
      "[91]\ttraining's auc: 0.955112\ttraining's binary_logloss: 0.0571544\tvalid_1's auc: 0.943135\tvalid_1's binary_logloss: 0.0618136\n",
      "[92]\ttraining's auc: 0.955175\ttraining's binary_logloss: 0.0571028\tvalid_1's auc: 0.943153\tvalid_1's binary_logloss: 0.061807\n",
      "[93]\ttraining's auc: 0.955233\ttraining's binary_logloss: 0.0570558\tvalid_1's auc: 0.943161\tvalid_1's binary_logloss: 0.0618092\n",
      "[94]\ttraining's auc: 0.955282\ttraining's binary_logloss: 0.0570158\tvalid_1's auc: 0.943172\tvalid_1's binary_logloss: 0.0618076\n",
      "[95]\ttraining's auc: 0.955344\ttraining's binary_logloss: 0.0569689\tvalid_1's auc: 0.943192\tvalid_1's binary_logloss: 0.0618016\n",
      "[96]\ttraining's auc: 0.955435\ttraining's binary_logloss: 0.0569311\tvalid_1's auc: 0.943203\tvalid_1's binary_logloss: 0.0618014\n",
      "[97]\ttraining's auc: 0.955529\ttraining's binary_logloss: 0.0568817\tvalid_1's auc: 0.943193\tvalid_1's binary_logloss: 0.0618022\n",
      "[98]\ttraining's auc: 0.955603\ttraining's binary_logloss: 0.0568401\tvalid_1's auc: 0.943205\tvalid_1's binary_logloss: 0.0618038\n",
      "[99]\ttraining's auc: 0.955689\ttraining's binary_logloss: 0.0567951\tvalid_1's auc: 0.943223\tvalid_1's binary_logloss: 0.0617983\n",
      "[100]\ttraining's auc: 0.955739\ttraining's binary_logloss: 0.0567546\tvalid_1's auc: 0.943235\tvalid_1's binary_logloss: 0.0617965\n",
      "[101]\ttraining's auc: 0.955793\ttraining's binary_logloss: 0.0567106\tvalid_1's auc: 0.94324\tvalid_1's binary_logloss: 0.0617947\n",
      "[102]\ttraining's auc: 0.955909\ttraining's binary_logloss: 0.0566698\tvalid_1's auc: 0.943264\tvalid_1's binary_logloss: 0.0617952\n",
      "[103]\ttraining's auc: 0.955932\ttraining's binary_logloss: 0.056635\tvalid_1's auc: 0.943266\tvalid_1's binary_logloss: 0.0617964\n",
      "[104]\ttraining's auc: 0.955991\ttraining's binary_logloss: 0.056605\tvalid_1's auc: 0.943273\tvalid_1's binary_logloss: 0.061794\n",
      "[105]\ttraining's auc: 0.956026\ttraining's binary_logloss: 0.0565644\tvalid_1's auc: 0.943266\tvalid_1's binary_logloss: 0.0617974\n",
      "[106]\ttraining's auc: 0.956093\ttraining's binary_logloss: 0.0565236\tvalid_1's auc: 0.943277\tvalid_1's binary_logloss: 0.0617966\n",
      "[107]\ttraining's auc: 0.956134\ttraining's binary_logloss: 0.056482\tvalid_1's auc: 0.943289\tvalid_1's binary_logloss: 0.0617865\n",
      "[108]\ttraining's auc: 0.956231\ttraining's binary_logloss: 0.0564396\tvalid_1's auc: 0.94333\tvalid_1's binary_logloss: 0.0617832\n",
      "[109]\ttraining's auc: 0.956308\ttraining's binary_logloss: 0.0563932\tvalid_1's auc: 0.943327\tvalid_1's binary_logloss: 0.0617851\n",
      "[110]\ttraining's auc: 0.956414\ttraining's binary_logloss: 0.0563524\tvalid_1's auc: 0.943339\tvalid_1's binary_logloss: 0.0617859\n",
      "[111]\ttraining's auc: 0.956514\ttraining's binary_logloss: 0.0563193\tvalid_1's auc: 0.94333\tvalid_1's binary_logloss: 0.0617874\n",
      "[112]\ttraining's auc: 0.95664\ttraining's binary_logloss: 0.0562851\tvalid_1's auc: 0.943378\tvalid_1's binary_logloss: 0.061782\n",
      "[113]\ttraining's auc: 0.956713\ttraining's binary_logloss: 0.0562443\tvalid_1's auc: 0.943379\tvalid_1's binary_logloss: 0.0617839\n",
      "[114]\ttraining's auc: 0.956809\ttraining's binary_logloss: 0.0562096\tvalid_1's auc: 0.943383\tvalid_1's binary_logloss: 0.0617836\n",
      "[115]\ttraining's auc: 0.956864\ttraining's binary_logloss: 0.0561753\tvalid_1's auc: 0.943373\tvalid_1's binary_logloss: 0.0617823\n",
      "[116]\ttraining's auc: 0.956976\ttraining's binary_logloss: 0.0561341\tvalid_1's auc: 0.943372\tvalid_1's binary_logloss: 0.0617858\n",
      "[117]\ttraining's auc: 0.957028\ttraining's binary_logloss: 0.0561062\tvalid_1's auc: 0.943382\tvalid_1's binary_logloss: 0.0617849\n",
      "[118]\ttraining's auc: 0.95714\ttraining's binary_logloss: 0.0560675\tvalid_1's auc: 0.943406\tvalid_1's binary_logloss: 0.0617819\n",
      "[119]\ttraining's auc: 0.95725\ttraining's binary_logloss: 0.0560274\tvalid_1's auc: 0.94341\tvalid_1's binary_logloss: 0.0617839\n",
      "[120]\ttraining's auc: 0.95729\ttraining's binary_logloss: 0.0559892\tvalid_1's auc: 0.94341\tvalid_1's binary_logloss: 0.0617824\n",
      "[121]\ttraining's auc: 0.957342\ttraining's binary_logloss: 0.0559493\tvalid_1's auc: 0.943422\tvalid_1's binary_logloss: 0.0617769\n",
      "[122]\ttraining's auc: 0.957372\ttraining's binary_logloss: 0.0559105\tvalid_1's auc: 0.943426\tvalid_1's binary_logloss: 0.0617745\n",
      "[123]\ttraining's auc: 0.957478\ttraining's binary_logloss: 0.0558642\tvalid_1's auc: 0.943438\tvalid_1's binary_logloss: 0.0617749\n",
      "[124]\ttraining's auc: 0.9575\ttraining's binary_logloss: 0.0558283\tvalid_1's auc: 0.943435\tvalid_1's binary_logloss: 0.0617797\n",
      "[125]\ttraining's auc: 0.957544\ttraining's binary_logloss: 0.0557882\tvalid_1's auc: 0.943431\tvalid_1's binary_logloss: 0.0617833\n",
      "[126]\ttraining's auc: 0.957568\ttraining's binary_logloss: 0.0557568\tvalid_1's auc: 0.943436\tvalid_1's binary_logloss: 0.0617807\n",
      "[127]\ttraining's auc: 0.957619\ttraining's binary_logloss: 0.0557098\tvalid_1's auc: 0.943431\tvalid_1's binary_logloss: 0.0617812\n",
      "[128]\ttraining's auc: 0.957653\ttraining's binary_logloss: 0.0556688\tvalid_1's auc: 0.943427\tvalid_1's binary_logloss: 0.0617853\n",
      "[129]\ttraining's auc: 0.957669\ttraining's binary_logloss: 0.0556357\tvalid_1's auc: 0.943428\tvalid_1's binary_logloss: 0.061787\n",
      "[130]\ttraining's auc: 0.957777\ttraining's binary_logloss: 0.0555942\tvalid_1's auc: 0.943466\tvalid_1's binary_logloss: 0.0617835\n",
      "[131]\ttraining's auc: 0.957831\ttraining's binary_logloss: 0.0555564\tvalid_1's auc: 0.943468\tvalid_1's binary_logloss: 0.0617829\n",
      "[132]\ttraining's auc: 0.957925\ttraining's binary_logloss: 0.0555214\tvalid_1's auc: 0.943505\tvalid_1's binary_logloss: 0.0617765\n",
      "[133]\ttraining's auc: 0.958038\ttraining's binary_logloss: 0.0554754\tvalid_1's auc: 0.943483\tvalid_1's binary_logloss: 0.0617806\n",
      "[134]\ttraining's auc: 0.95806\ttraining's binary_logloss: 0.0554378\tvalid_1's auc: 0.943483\tvalid_1's binary_logloss: 0.0617796\n",
      "[135]\ttraining's auc: 0.958107\ttraining's binary_logloss: 0.0554004\tvalid_1's auc: 0.94348\tvalid_1's binary_logloss: 0.061778\n",
      "[136]\ttraining's auc: 0.958142\ttraining's binary_logloss: 0.0553678\tvalid_1's auc: 0.943477\tvalid_1's binary_logloss: 0.0617796\n",
      "[137]\ttraining's auc: 0.958166\ttraining's binary_logloss: 0.055327\tvalid_1's auc: 0.943478\tvalid_1's binary_logloss: 0.0617822\n",
      "[138]\ttraining's auc: 0.958291\ttraining's binary_logloss: 0.0552878\tvalid_1's auc: 0.943451\tvalid_1's binary_logloss: 0.0617872\n",
      "[139]\ttraining's auc: 0.958329\ttraining's binary_logloss: 0.0552584\tvalid_1's auc: 0.943456\tvalid_1's binary_logloss: 0.0617862\n",
      "[140]\ttraining's auc: 0.958406\ttraining's binary_logloss: 0.0552184\tvalid_1's auc: 0.943446\tvalid_1's binary_logloss: 0.0617892\n",
      "[141]\ttraining's auc: 0.958484\ttraining's binary_logloss: 0.0551834\tvalid_1's auc: 0.943441\tvalid_1's binary_logloss: 0.061792\n",
      "[142]\ttraining's auc: 0.958502\ttraining's binary_logloss: 0.0551513\tvalid_1's auc: 0.94344\tvalid_1's binary_logloss: 0.0617953\n",
      "[143]\ttraining's auc: 0.958527\ttraining's binary_logloss: 0.0551268\tvalid_1's auc: 0.943441\tvalid_1's binary_logloss: 0.0617968\n",
      "[144]\ttraining's auc: 0.95858\ttraining's binary_logloss: 0.0551033\tvalid_1's auc: 0.94344\tvalid_1's binary_logloss: 0.0617967\n",
      "[145]\ttraining's auc: 0.958634\ttraining's binary_logloss: 0.0550718\tvalid_1's auc: 0.943444\tvalid_1's binary_logloss: 0.0617964\n",
      "[146]\ttraining's auc: 0.95878\ttraining's binary_logloss: 0.055031\tvalid_1's auc: 0.943466\tvalid_1's binary_logloss: 0.0617971\n",
      "[147]\ttraining's auc: 0.95881\ttraining's binary_logloss: 0.0549932\tvalid_1's auc: 0.943468\tvalid_1's binary_logloss: 0.0617962\n",
      "[148]\ttraining's auc: 0.958843\ttraining's binary_logloss: 0.0549655\tvalid_1's auc: 0.943466\tvalid_1's binary_logloss: 0.0617975\n",
      "[149]\ttraining's auc: 0.958914\ttraining's binary_logloss: 0.0549291\tvalid_1's auc: 0.943473\tvalid_1's binary_logloss: 0.0617963\n",
      "[150]\ttraining's auc: 0.959004\ttraining's binary_logloss: 0.0548906\tvalid_1's auc: 0.943493\tvalid_1's binary_logloss: 0.0617926\n",
      "[151]\ttraining's auc: 0.959136\ttraining's binary_logloss: 0.0548542\tvalid_1's auc: 0.943507\tvalid_1's binary_logloss: 0.0617905\n",
      "[152]\ttraining's auc: 0.959151\ttraining's binary_logloss: 0.0548235\tvalid_1's auc: 0.943508\tvalid_1's binary_logloss: 0.0617942\n",
      "[153]\ttraining's auc: 0.959211\ttraining's binary_logloss: 0.0547801\tvalid_1's auc: 0.943524\tvalid_1's binary_logloss: 0.0617875\n",
      "[154]\ttraining's auc: 0.959239\ttraining's binary_logloss: 0.0547515\tvalid_1's auc: 0.943526\tvalid_1's binary_logloss: 0.0617871\n",
      "[155]\ttraining's auc: 0.959314\ttraining's binary_logloss: 0.054712\tvalid_1's auc: 0.943543\tvalid_1's binary_logloss: 0.0617852\n",
      "[156]\ttraining's auc: 0.959362\ttraining's binary_logloss: 0.0546781\tvalid_1's auc: 0.943539\tvalid_1's binary_logloss: 0.0617844\n",
      "[157]\ttraining's auc: 0.959419\ttraining's binary_logloss: 0.0546439\tvalid_1's auc: 0.943536\tvalid_1's binary_logloss: 0.0617816\n",
      "[158]\ttraining's auc: 0.959445\ttraining's binary_logloss: 0.054609\tvalid_1's auc: 0.943532\tvalid_1's binary_logloss: 0.0617849\n",
      "[159]\ttraining's auc: 0.959463\ttraining's binary_logloss: 0.0545789\tvalid_1's auc: 0.943534\tvalid_1's binary_logloss: 0.061785\n",
      "[160]\ttraining's auc: 0.959574\ttraining's binary_logloss: 0.054539\tvalid_1's auc: 0.94355\tvalid_1's binary_logloss: 0.0617854\n",
      "[161]\ttraining's auc: 0.959666\ttraining's binary_logloss: 0.0545072\tvalid_1's auc: 0.943561\tvalid_1's binary_logloss: 0.0617842\n",
      "[162]\ttraining's auc: 0.959742\ttraining's binary_logloss: 0.0544716\tvalid_1's auc: 0.943547\tvalid_1's binary_logloss: 0.0617864\n",
      "[163]\ttraining's auc: 0.959774\ttraining's binary_logloss: 0.0544353\tvalid_1's auc: 0.943547\tvalid_1's binary_logloss: 0.0617863\n",
      "[164]\ttraining's auc: 0.95986\ttraining's binary_logloss: 0.0543957\tvalid_1's auc: 0.943551\tvalid_1's binary_logloss: 0.0617851\n",
      "[165]\ttraining's auc: 0.960017\ttraining's binary_logloss: 0.0543582\tvalid_1's auc: 0.943576\tvalid_1's binary_logloss: 0.0617828\n",
      "[166]\ttraining's auc: 0.96004\ttraining's binary_logloss: 0.0543243\tvalid_1's auc: 0.943573\tvalid_1's binary_logloss: 0.0617806\n",
      "[167]\ttraining's auc: 0.960064\ttraining's binary_logloss: 0.0542969\tvalid_1's auc: 0.943569\tvalid_1's binary_logloss: 0.0617843\n",
      "[168]\ttraining's auc: 0.960161\ttraining's binary_logloss: 0.0542632\tvalid_1's auc: 0.943566\tvalid_1's binary_logloss: 0.0617839\n",
      "[169]\ttraining's auc: 0.960214\ttraining's binary_logloss: 0.0542294\tvalid_1's auc: 0.943575\tvalid_1's binary_logloss: 0.0617862\n",
      "[170]\ttraining's auc: 0.960268\ttraining's binary_logloss: 0.0542019\tvalid_1's auc: 0.943593\tvalid_1's binary_logloss: 0.0617848\n",
      "[171]\ttraining's auc: 0.960321\ttraining's binary_logloss: 0.0541711\tvalid_1's auc: 0.943588\tvalid_1's binary_logloss: 0.0617857\n",
      "[172]\ttraining's auc: 0.960377\ttraining's binary_logloss: 0.0541371\tvalid_1's auc: 0.943587\tvalid_1's binary_logloss: 0.0617851\n",
      "[173]\ttraining's auc: 0.960457\ttraining's binary_logloss: 0.0541018\tvalid_1's auc: 0.943577\tvalid_1's binary_logloss: 0.0617866\n",
      "[174]\ttraining's auc: 0.960527\ttraining's binary_logloss: 0.0540709\tvalid_1's auc: 0.943604\tvalid_1's binary_logloss: 0.0617819\n",
      "[175]\ttraining's auc: 0.960554\ttraining's binary_logloss: 0.054036\tvalid_1's auc: 0.943601\tvalid_1's binary_logloss: 0.0617811\n",
      "[176]\ttraining's auc: 0.960645\ttraining's binary_logloss: 0.0539966\tvalid_1's auc: 0.943606\tvalid_1's binary_logloss: 0.0617762\n",
      "[177]\ttraining's auc: 0.960696\ttraining's binary_logloss: 0.0539564\tvalid_1's auc: 0.94361\tvalid_1's binary_logloss: 0.0617714\n",
      "[178]\ttraining's auc: 0.960717\ttraining's binary_logloss: 0.0539223\tvalid_1's auc: 0.943614\tvalid_1's binary_logloss: 0.0617675\n",
      "[179]\ttraining's auc: 0.960786\ttraining's binary_logloss: 0.0538904\tvalid_1's auc: 0.943644\tvalid_1's binary_logloss: 0.0617629\n",
      "[180]\ttraining's auc: 0.960878\ttraining's binary_logloss: 0.0538551\tvalid_1's auc: 0.943651\tvalid_1's binary_logloss: 0.0617626\n",
      "[181]\ttraining's auc: 0.960914\ttraining's binary_logloss: 0.0538285\tvalid_1's auc: 0.943655\tvalid_1's binary_logloss: 0.0617633\n",
      "[182]\ttraining's auc: 0.960958\ttraining's binary_logloss: 0.0537991\tvalid_1's auc: 0.943649\tvalid_1's binary_logloss: 0.0617652\n",
      "[183]\ttraining's auc: 0.961023\ttraining's binary_logloss: 0.0537634\tvalid_1's auc: 0.943647\tvalid_1's binary_logloss: 0.0617672\n",
      "[184]\ttraining's auc: 0.961132\ttraining's binary_logloss: 0.0537243\tvalid_1's auc: 0.943636\tvalid_1's binary_logloss: 0.0617712\n",
      "[185]\ttraining's auc: 0.961167\ttraining's binary_logloss: 0.0536887\tvalid_1's auc: 0.943646\tvalid_1's binary_logloss: 0.0617658\n",
      "[186]\ttraining's auc: 0.961275\ttraining's binary_logloss: 0.0536562\tvalid_1's auc: 0.943669\tvalid_1's binary_logloss: 0.0617632\n",
      "[187]\ttraining's auc: 0.961396\ttraining's binary_logloss: 0.0536191\tvalid_1's auc: 0.943664\tvalid_1's binary_logloss: 0.0617623\n",
      "[188]\ttraining's auc: 0.961435\ttraining's binary_logloss: 0.053584\tvalid_1's auc: 0.943663\tvalid_1's binary_logloss: 0.061766\n",
      "[189]\ttraining's auc: 0.961492\ttraining's binary_logloss: 0.0535603\tvalid_1's auc: 0.943659\tvalid_1's binary_logloss: 0.0617646\n",
      "[190]\ttraining's auc: 0.961522\ttraining's binary_logloss: 0.0535346\tvalid_1's auc: 0.943658\tvalid_1's binary_logloss: 0.0617672\n",
      "[191]\ttraining's auc: 0.961561\ttraining's binary_logloss: 0.0535092\tvalid_1's auc: 0.943648\tvalid_1's binary_logloss: 0.0617666\n",
      "[192]\ttraining's auc: 0.961596\ttraining's binary_logloss: 0.0534728\tvalid_1's auc: 0.943653\tvalid_1's binary_logloss: 0.0617669\n",
      "[193]\ttraining's auc: 0.961614\ttraining's binary_logloss: 0.0534407\tvalid_1's auc: 0.943649\tvalid_1's binary_logloss: 0.0617748\n",
      "[194]\ttraining's auc: 0.961636\ttraining's binary_logloss: 0.0534066\tvalid_1's auc: 0.943653\tvalid_1's binary_logloss: 0.0617726\n"
     ]
    },
    {
     "name": "stdout",
     "output_type": "stream",
     "text": [
      "[195]\ttraining's auc: 0.961741\ttraining's binary_logloss: 0.0533771\tvalid_1's auc: 0.943638\tvalid_1's binary_logloss: 0.0617744\n",
      "[196]\ttraining's auc: 0.961755\ttraining's binary_logloss: 0.0533416\tvalid_1's auc: 0.94364\tvalid_1's binary_logloss: 0.0617762\n",
      "[197]\ttraining's auc: 0.961896\ttraining's binary_logloss: 0.0533083\tvalid_1's auc: 0.943653\tvalid_1's binary_logloss: 0.0617753\n",
      "[198]\ttraining's auc: 0.961926\ttraining's binary_logloss: 0.0532726\tvalid_1's auc: 0.943648\tvalid_1's binary_logloss: 0.0617766\n",
      "[199]\ttraining's auc: 0.961967\ttraining's binary_logloss: 0.0532411\tvalid_1's auc: 0.943647\tvalid_1's binary_logloss: 0.0617814\n",
      "[200]\ttraining's auc: 0.962023\ttraining's binary_logloss: 0.0532053\tvalid_1's auc: 0.943641\tvalid_1's binary_logloss: 0.061789\n"
     ]
    },
    {
     "data": {
      "text/plain": [
       "LGBMClassifier(min_child_weight=10, n_estimators=200)"
      ]
     },
     "execution_count": 335,
     "metadata": {},
     "output_type": "execute_result"
    }
   ],
   "source": [
    "clf_lgb = lgb.LGBMClassifier(\n",
    "    n_estimators=200,\n",
    "    min_child_weight=10\n",
    ")\n",
    "clf_lgb.fit(\n",
    "    ids_X_train, ids_y_train,\n",
    "    eval_set=[(ids_X_train, ids_y_train), (ids_X_test, ids_y_test)],\n",
    "    eval_metric=\"auc\", verbose=True,\n",
    "#     early_stopping_rounds=20,\n",
    ")"
   ]
  },
  {
   "cell_type": "code",
   "execution_count": 324,
   "metadata": {},
   "outputs": [
    {
     "data": {
      "text/plain": [
       "0.9433878511198031"
      ]
     },
     "execution_count": 324,
     "metadata": {},
     "output_type": "execute_result"
    }
   ],
   "source": [
    "prediction1 = clf_xgb.predict_proba(ids_X_test)[:, -1]\n",
    "roc_auc_score(ids_y_test, prediction1)"
   ]
  },
  {
   "cell_type": "code",
   "execution_count": 354,
   "metadata": {},
   "outputs": [
    {
     "data": {
      "text/plain": [
       "0.9426856064599045"
      ]
     },
     "execution_count": 354,
     "metadata": {},
     "output_type": "execute_result"
    }
   ],
   "source": [
    "prediction2 = clf_cat.predict_proba(ids_X_test)[:, -1]\n",
    "roc_auc_score(ids_y_test, prediction2)"
   ]
  },
  {
   "cell_type": "code",
   "execution_count": 336,
   "metadata": {},
   "outputs": [
    {
     "data": {
      "text/plain": [
       "0.9436410264682491"
      ]
     },
     "execution_count": 336,
     "metadata": {},
     "output_type": "execute_result"
    }
   ],
   "source": [
    "prediction3 = clf_lgb.predict_proba(ids_X_test)[:, -1]\n",
    "roc_auc_score(ids_y_test, prediction3)"
   ]
  },
  {
   "cell_type": "code",
   "execution_count": 355,
   "metadata": {},
   "outputs": [
    {
     "data": {
      "text/plain": [
       "0.9447508839363452"
      ]
     },
     "execution_count": 355,
     "metadata": {},
     "output_type": "execute_result"
    }
   ],
   "source": [
    "prediction = (prediction1 + prediction2 + prediction3)\n",
    "roc_auc_score(ids_y_test, prediction)"
   ]
  },
  {
   "cell_type": "code",
   "execution_count": 356,
   "metadata": {},
   "outputs": [],
   "source": [
    "predDetails = pd.DataFrame({\"sess_id\" : ids_sess_test.astype(int),\n",
    "                            \"item\" : ids_item_test.astype(int), \"score\" : prediction})"
   ]
  },
  {
   "cell_type": "code",
   "execution_count": 357,
   "metadata": {},
   "outputs": [],
   "source": [
    "ix_bests = predDetails.groupby(\"sess_id\")[\"score\"].idxmax()"
   ]
  },
  {
   "cell_type": "code",
   "execution_count": 358,
   "metadata": {},
   "outputs": [
    {
     "data": {
      "text/plain": [
       "0.22097441731006606"
      ]
     },
     "execution_count": 358,
     "metadata": {},
     "output_type": "execute_result"
    }
   ],
   "source": [
    "accuracy_score(y_test[zp:], predDetails.loc[ix_bests, \"item\"]) # 7 feats + agg (bad lgbm?)"
   ]
  },
  {
   "cell_type": "code",
   "execution_count": null,
   "metadata": {},
   "outputs": [],
   "source": []
  },
  {
   "cell_type": "code",
   "execution_count": 359,
   "metadata": {},
   "outputs": [],
   "source": [
    "sess_scores = dict()\n",
    "for (sess_id, item), score in zip(predDetails[[\"sess_id\", \"item\"]].values, predDetails[\"score\"].values):\n",
    "    if sess_id in sess_scores:\n",
    "        sess_scores[sess_id].append((score, item))\n",
    "    else:\n",
    "        sess_scores[sess_id] = [(score, item)]"
   ]
  },
  {
   "cell_type": "code",
   "execution_count": 360,
   "metadata": {},
   "outputs": [],
   "source": [
    "sess_ids = sorted(predDetails[\"sess_id\"].unique())"
   ]
  },
  {
   "cell_type": "code",
   "execution_count": 361,
   "metadata": {},
   "outputs": [],
   "source": [
    "top10prediction = []\n",
    "for sess_id in sess_ids:\n",
    "    x = sess_scores[sess_id]\n",
    "    x = sorted(x, reverse = True)\n",
    "    pred = [item for score, item in x]\n",
    "    pred = pred + [-1] * 10\n",
    "    pred = pred[:10]\n",
    "    top10prediction.append(pred)"
   ]
  },
  {
   "cell_type": "code",
   "execution_count": 362,
   "metadata": {},
   "outputs": [
    {
     "name": "stdout",
     "output_type": "stream",
     "text": [
      "0.22097 - 0.22097 - 0.31880 \t\t 0.41702 - 0.60163\n",
      "0.04722 - 0.26819 - 0.36178 \t\t 0.36280 - 0.93187\n",
      "0.02052 - 0.28872 - 0.37659 \t\t 0.34949 - 1.18398\n",
      "0.01176 - 0.30048 - 0.38389 \t\t 0.33843 - 1.39426\n",
      "0.00784 - 0.30832 - 0.38827 \t\t 0.31941 - 1.57252\n",
      "0.00569 - 0.31401 - 0.39119 \t\t 0.28848 - 1.72077\n",
      "0.00387 - 0.31788 - 0.39306 \t\t 0.25658 - 1.84416\n",
      "0.00315 - 0.32103 - 0.39449 \t\t 0.21730 - 1.94305\n",
      "0.00220 - 0.32323 - 0.39544 \t\t 0.17286 - 2.01812\n",
      "0.00148 - 0.32471 - 0.39606 \t\t 0.13595 - 2.07482\n",
      "\n"
     ]
    }
   ],
   "source": [
    "score = 0,\n",
    "scoreDom = 0\n",
    "score_tot = 0,\n",
    "scoreDom_tot = 0\n",
    "score_cum = 0\n",
    "scoreDom_cum = 0\n",
    "for i in range(10):\n",
    "    score = accuracy_score(y_test[zp:], np.array(top10prediction)[:, i])\n",
    "    score_cum += score\n",
    "    score_tot += score / np.log(2 + i)\n",
    "    scoreDom = accuracy_score(ydom_test[zp:], np.vectorize(lambda x : itemDomain.get(x, \"<UNKN>\"))(np.array(top10prediction)[:, i]))\n",
    "    scoreDom_tot += scoreDom / np.log(2 + i)\n",
    "    print(\"%.5f - %.5f - %.5f \\t\\t %.5f - %.5f\" % (score, score_cum, score_tot,\n",
    "                                                        scoreDom, scoreDom_tot))\n",
    "\n",
    "print()"
   ]
  },
  {
   "cell_type": "code",
   "execution_count": null,
   "metadata": {},
   "outputs": [],
   "source": []
  },
  {
   "cell_type": "code",
   "execution_count": 363,
   "metadata": {},
   "outputs": [],
   "source": [
    "def predict_vc4(uhs_train, vista_compra, vista_count, compra_count, domain_count, knnrecs, knndists, ranked_recomms):\n",
    "    N_SEARCH = 1000\n",
    "    prediction = []\n",
    "    dom_preds = []\n",
    "    \n",
    "    for session, recs, kds, sess_post in zip(uhs_train, knnrecs, knndists, ranked_recomms):\n",
    "        \n",
    "        sess_post = [item for item in sess_post if item != -1]\n",
    "        \n",
    "        assert len(sess_post) == len(set(sess_post)), \"vish\"\n",
    "        \n",
    "        unique_recs = []\n",
    "        unique_recsdist = dict()\n",
    "        for r, d in zip(recs, kds):\n",
    "            if r != -1 and r not in unique_recsdist:\n",
    "                unique_recs.append(r)\n",
    "                unique_recsdist[r] = d\n",
    "        \n",
    "        view_events = [event for event in session if event[\"event_type\"] == \"view\"]\n",
    "\n",
    "            \n",
    "        unique_set = set()\n",
    "        count = dict()\n",
    "        unique_order = []\n",
    "        special_selected = []\n",
    "        for i, event in enumerate(view_events[::-1]):\n",
    "            item_seen = event[\"event_info\"]\n",
    "            if item_seen not in unique_set:\n",
    "                unique_set.add(item_seen)\n",
    "                unique_order.append(item_seen)\n",
    "            count[item_seen] = count.get(item_seen, 0) + 1\n",
    "#             if i == n_recent:\n",
    "#                 special_selected = unique_order.copy()\n",
    "            if len(unique_order) >= N_SEARCH:\n",
    "                break\n",
    "        sel_items = unique_order[:10]\n",
    "        \n",
    "        if len(sel_items) > 0:\n",
    "            sel_dom_count = {}\n",
    "            for item in sel_items:\n",
    "                dom = itemDomain.get(item, \"<UNKN>\")\n",
    "                sel_dom_count[dom] = sel_dom_count.get(dom, 0) + 1\n",
    "            best_dom = max(sel_dom_count, key = sel_dom_count.get)\n",
    "        else:\n",
    "            best_dom = \"<UNKN>\"\n",
    "        \n",
    "        final_score = dict()\n",
    "        final_scoreDom = dict()\n",
    "        for vista in unique_order[:20]:\n",
    "            for compra, qtd in vista_compra.get(vista, dict()).items():\n",
    "                dom = itemDomain.get(compra, \"<UNKN>\")\n",
    "                final_score[compra] = final_score.get(compra, 0) + qtd\n",
    "                final_scoreDom[dom] = final_scoreDom.get(dom, 0) + qtd\n",
    "        if len(final_scoreDom) > 0:\n",
    "            best_dom = max(final_scoreDom, key = lambda x : (final_scoreDom.get(x, 0), sel_dom_count.get(x, 0)))\n",
    "        \n",
    "        pred = []\n",
    "        pred_set = set()\n",
    "        if len(sel_items) > 0:            \n",
    "            extras = sorted(final_score, key = final_score.get, reverse = True)[:10]\n",
    "            extras_filtered = {item for item in extras if item not in unique_set}\n",
    "            \n",
    "#             best = max(sel_items, key = lambda k : (compra_count.get(k, 0)))\n",
    "            best_list = sorted(sel_items, key = lambda k : (compra_count.get(k, 0), itemCondition.get(k, 0)),\n",
    "                               reverse = True)\n",
    "            best = best_list[0]\n",
    "            best_dom = itemDomain[best] # Careful with this line -> might need to change in the future\n",
    "            pred = pred + [best]\n",
    "            pred_set.add(best)\n",
    "            \n",
    "                \n",
    "            top_posts = sess_post[:2]\n",
    "            if best not in top_posts:\n",
    "                pred = top_posts + pred\n",
    "            else:\n",
    "                pred = top_posts\n",
    "                \n",
    "            pred_set = set(pred)    \n",
    "            best_dom = itemDomain[pred[0]]             \n",
    "\n",
    "\n",
    "\n",
    "            leftings = unique_set | extras_filtered\n",
    "            leftings = {item for item in leftings if (itemDomain[item] == best_dom and item not in pred_set)}\n",
    "            tail = sorted(leftings, key = lambda k : (final_score.get(k, 0), compra_count.get(k, 0)), reverse = True)\n",
    "            pred = pred + tail\n",
    "            pred_set = set(pred)\n",
    "            \n",
    "            replacement = top20domItems.get(best_dom, [])\n",
    "            replacement = [item for item in replacement if (item not in pred_set)]\n",
    "            pred = pred + replacement\n",
    "            pred = pred[:10]\n",
    "        else:\n",
    "            pred = []\n",
    "        \n",
    "        n_missing = 10 - len(pred)\n",
    "        replacement = [item for item in sess_post if item not in pred]\n",
    "        pred = pred + replacement[:n_missing]\n",
    "        \n",
    "        n_missing = 10 - len(pred)\n",
    "        replacement = [item for item in unique_recs if item not in pred]\n",
    "        pred = pred + replacement[:n_missing]\n",
    "        \n",
    "        n_missing = 10 - len(pred)\n",
    "        replacement = [item for item in topDomainTop20itens if item not in pred]\n",
    "        pred = pred + replacement[:n_missing]\n",
    "        \n",
    "        assert len(set(pred)) == 10, \"item repetido\"\n",
    "        \n",
    "        prediction.append(pred)\n",
    "        dom_preds.append(best_dom)\n",
    "        \n",
    "    return prediction, dom_preds"
   ]
  },
  {
   "cell_type": "code",
   "execution_count": 364,
   "metadata": {},
   "outputs": [
    {
     "name": "stdout",
     "output_type": "stream",
     "text": [
      "DOM: 0.40973449185565264\n",
      "0.22097 - 0.22097 - 0.31880 \t\t 0.41702 - 0.60163\n",
      "0.04722 - 0.26819 - 0.36178 \t\t 0.36343 - 0.93244\n",
      "0.01956 - 0.28775 - 0.37589 \t\t 0.39964 - 1.22072\n",
      "0.01297 - 0.30072 - 0.38395 \t\t 0.41332 - 1.47753\n",
      "0.00922 - 0.30995 - 0.38909 \t\t 0.41087 - 1.70684\n",
      "0.00733 - 0.31728 - 0.39286 \t\t 0.40990 - 1.91749\n",
      "0.00578 - 0.32306 - 0.39564 \t\t 0.40782 - 2.11361\n",
      "0.00571 - 0.32878 - 0.39824 \t\t 0.40562 - 2.29822\n",
      "0.00411 - 0.33289 - 0.40003 \t\t 0.40310 - 2.47329\n",
      "0.00392 - 0.33681 - 0.40167 \t\t 0.40049 - 2.64030\n",
      "\n"
     ]
    }
   ],
   "source": [
    "prediction, dom_preds = predict_vc4(X_test[zp:],\n",
    "        vista_compra_train, vista_count_train,\n",
    "        compra_count_train, domain_count_train,\n",
    "        recomms_test[zp:], knndists_test[zp:], top10prediction)\n",
    "\n",
    "print(\"DOM:\", accuracy_score(ydom_test[zp:], dom_preds))\n",
    "score = 0,\n",
    "scoreDom = 0\n",
    "score_tot = 0,\n",
    "scoreDom_tot = 0\n",
    "score_cum = 0\n",
    "scoreDom_cum = 0\n",
    "for i in range(10):\n",
    "    score = accuracy_score(y_test[zp:], np.array(prediction)[:, i])\n",
    "    score_cum += score\n",
    "    score_tot += score / np.log(2 + i)\n",
    "    scoreDom = accuracy_score(ydom_test[zp:], np.vectorize(itemDomain.get)(np.array(prediction)[:, i]))\n",
    "    scoreDom_tot += scoreDom / np.log(2 + i)\n",
    "    print(\"%.5f - %.5f - %.5f \\t\\t %.5f - %.5f\" % (score, score_cum, score_tot,\n",
    "                                                        scoreDom, scoreDom_tot))\n",
    "\n",
    "print()"
   ]
  },
  {
   "cell_type": "markdown",
   "metadata": {},
   "source": [
    "<hr>"
   ]
  },
  {
   "cell_type": "markdown",
   "metadata": {},
   "source": [
    "## Ranker training with more data"
   ]
  },
  {
   "cell_type": "code",
   "execution_count": 367,
   "metadata": {},
   "outputs": [
    {
     "name": "stdout",
     "output_type": "stream",
     "text": [
      "0\n",
      "splitted\n",
      "X_train processed\n",
      "Got ids\n",
      "finished fold\n",
      "1\n",
      "splitted\n",
      "X_train processed\n",
      "Got ids\n",
      "finished fold\n",
      "2\n",
      "splitted\n",
      "X_train processed\n",
      "Got ids\n",
      "finished fold\n",
      "3\n",
      "splitted\n",
      "X_train processed\n",
      "Got ids\n",
      "finished fold\n",
      "4\n",
      "splitted\n",
      "X_train processed\n",
      "Got ids\n",
      "finished fold\n",
      "Wall time: 3min 58s\n"
     ]
    }
   ],
   "source": [
    "%%time\n",
    "temp_yfolds = []\n",
    "temp_Xfolds = []\n",
    "for j, (train_index, test_index) in enumerate(splits):\n",
    "    print(j)\n",
    "    \n",
    "    recomms_test = recomms_folds[j]\n",
    "    knndists_test = dists_folds[j]\n",
    "    \n",
    "    \n",
    "    X_train, y_train, ydom_train = uhs_train[train_index], target[train_index], domain[train_index]\n",
    "    X_test, y_test, ydom_test = uhs_train[test_index], target[test_index], domain[test_index]\n",
    "    session_id_test = session_id[test_index]\n",
    "    sess_node_features_test = sess_node_features_full[test_index]\n",
    "    \n",
    "    print(\"splitted\")\n",
    "\n",
    "    vista_compra_train = get_vista_compra_l10(X_train, y_train) #l10 here improves dom pos2\n",
    "    vista_count_train = get_vista_count(X_train)\n",
    "    compra_count_train = pd.Series(y_train).value_counts()\n",
    "    #     compra_count_train = get_compra_count_power(X_train, y_train)\n",
    "    domain_count_train = pd.Series(ydom_train).value_counts()\n",
    "    \n",
    "    print(\"X_train processed\")\n",
    "    \n",
    "    item_ds_test = get_item_ds(X_test,\n",
    "        vista_compra_train, vista_count_train, compra_count_train, domain_count_train,\n",
    "                               recomms_test, knndists_test, session_id_test, sess_node_features_test)\n",
    "    \n",
    "    print(\"Got ids\")\n",
    "    \n",
    "    ids_real_targets = target[item_ds_test[:, 0].astype(int)]\n",
    "\n",
    "    fold_y = 1 * (ids_real_targets == item_ds_test[:, 1].astype(int))\n",
    "    \n",
    "    fold_X = get_extra_ids_features(item_ds_test)\n",
    "    \n",
    "    temp_yfolds.append(fold_y)\n",
    "    temp_Xfolds.append(fold_X)\n",
    "    \n",
    "    print(\"finished fold\")"
   ]
  },
  {
   "cell_type": "code",
   "execution_count": 368,
   "metadata": {},
   "outputs": [],
   "source": [
    "X = np.concatenate(temp_Xfolds, axis = 0)\n",
    "y = np.concatenate(temp_yfolds, axis = 0)"
   ]
  },
  {
   "cell_type": "code",
   "execution_count": 369,
   "metadata": {},
   "outputs": [
    {
     "data": {
      "text/plain": [
       "206581"
      ]
     },
     "execution_count": 369,
     "metadata": {},
     "output_type": "execute_result"
    }
   ],
   "source": [
    "zp = int(len(uhs_train) * .5)\n",
    "zp"
   ]
  },
  {
   "cell_type": "code",
   "execution_count": 370,
   "metadata": {},
   "outputs": [],
   "source": [
    "wp = -1\n",
    "initial_sess_id = X[0, 0]\n",
    "for i, sess_id in enumerate(X[:, 0]):\n",
    "    if (sess_id - initial_sess_id) == zp:\n",
    "        wp = i"
   ]
  },
  {
   "cell_type": "code",
   "execution_count": 371,
   "metadata": {},
   "outputs": [],
   "source": [
    "ids_X_train, ids_y_train, ids_item_train, ids_sess_train = X[:wp,2:], y[:wp], X[:wp, 1], X[:wp, 0]\n",
    "ids_X_test, ids_y_test, ids_item_test, ids_sess_test = X[wp:,2:], y[wp:], X[wp:, 1], X[wp:, 0]"
   ]
  },
  {
   "cell_type": "code",
   "execution_count": 372,
   "metadata": {},
   "outputs": [
    {
     "data": {
      "text/plain": [
       "(2892827, 2897337)"
      ]
     },
     "execution_count": 372,
     "metadata": {},
     "output_type": "execute_result"
    }
   ],
   "source": [
    "len(ids_X_train), len(ids_X_test)"
   ]
  },
  {
   "cell_type": "code",
   "execution_count": 373,
   "metadata": {
    "scrolled": true
   },
   "outputs": [
    {
     "name": "stdout",
     "output_type": "stream",
     "text": [
      "[0]\tvalidation_0-auc:0.92968\tvalidation_1-auc:0.92996\n",
      "[1]\tvalidation_0-auc:0.93144\tvalidation_1-auc:0.93175\n",
      "[2]\tvalidation_0-auc:0.93197\tvalidation_1-auc:0.93220\n",
      "[3]\tvalidation_0-auc:0.93627\tvalidation_1-auc:0.93632\n",
      "[4]\tvalidation_0-auc:0.93735\tvalidation_1-auc:0.93732\n",
      "[5]\tvalidation_0-auc:0.93904\tvalidation_1-auc:0.93911\n",
      "[6]\tvalidation_0-auc:0.93935\tvalidation_1-auc:0.93940\n",
      "[7]\tvalidation_0-auc:0.93967\tvalidation_1-auc:0.93971\n",
      "[8]\tvalidation_0-auc:0.93991\tvalidation_1-auc:0.93995\n",
      "[9]\tvalidation_0-auc:0.94017\tvalidation_1-auc:0.94020\n",
      "[10]\tvalidation_0-auc:0.94040\tvalidation_1-auc:0.94042\n",
      "[11]\tvalidation_0-auc:0.94083\tvalidation_1-auc:0.94075\n",
      "[12]\tvalidation_0-auc:0.94104\tvalidation_1-auc:0.94098\n",
      "[13]\tvalidation_0-auc:0.94162\tvalidation_1-auc:0.94142\n",
      "[14]\tvalidation_0-auc:0.94191\tvalidation_1-auc:0.94161\n",
      "[15]\tvalidation_0-auc:0.94239\tvalidation_1-auc:0.94193\n",
      "[16]\tvalidation_0-auc:0.94256\tvalidation_1-auc:0.94205\n",
      "[17]\tvalidation_0-auc:0.94329\tvalidation_1-auc:0.94254\n",
      "[18]\tvalidation_0-auc:0.94367\tvalidation_1-auc:0.94283\n",
      "[19]\tvalidation_0-auc:0.94428\tvalidation_1-auc:0.94335\n",
      "[20]\tvalidation_0-auc:0.94478\tvalidation_1-auc:0.94377\n",
      "[21]\tvalidation_0-auc:0.94527\tvalidation_1-auc:0.94411\n",
      "[22]\tvalidation_0-auc:0.94567\tvalidation_1-auc:0.94443\n",
      "[23]\tvalidation_0-auc:0.94603\tvalidation_1-auc:0.94470\n",
      "[24]\tvalidation_0-auc:0.94629\tvalidation_1-auc:0.94486\n",
      "[25]\tvalidation_0-auc:0.94656\tvalidation_1-auc:0.94500\n",
      "[26]\tvalidation_0-auc:0.94674\tvalidation_1-auc:0.94510\n",
      "[27]\tvalidation_0-auc:0.94690\tvalidation_1-auc:0.94522\n",
      "[28]\tvalidation_0-auc:0.94721\tvalidation_1-auc:0.94543\n",
      "[29]\tvalidation_0-auc:0.94740\tvalidation_1-auc:0.94551\n",
      "[30]\tvalidation_0-auc:0.94754\tvalidation_1-auc:0.94562\n",
      "[31]\tvalidation_0-auc:0.94765\tvalidation_1-auc:0.94566\n",
      "[32]\tvalidation_0-auc:0.94779\tvalidation_1-auc:0.94574\n",
      "[33]\tvalidation_0-auc:0.94786\tvalidation_1-auc:0.94579\n",
      "[34]\tvalidation_0-auc:0.94801\tvalidation_1-auc:0.94585\n",
      "[35]\tvalidation_0-auc:0.94815\tvalidation_1-auc:0.94593\n",
      "[36]\tvalidation_0-auc:0.94833\tvalidation_1-auc:0.94601\n",
      "[37]\tvalidation_0-auc:0.94847\tvalidation_1-auc:0.94607\n",
      "[38]\tvalidation_0-auc:0.94860\tvalidation_1-auc:0.94613\n",
      "[39]\tvalidation_0-auc:0.94872\tvalidation_1-auc:0.94619\n",
      "[40]\tvalidation_0-auc:0.94879\tvalidation_1-auc:0.94620\n",
      "[41]\tvalidation_0-auc:0.94898\tvalidation_1-auc:0.94627\n",
      "[42]\tvalidation_0-auc:0.94906\tvalidation_1-auc:0.94631\n",
      "[43]\tvalidation_0-auc:0.94914\tvalidation_1-auc:0.94632\n",
      "[44]\tvalidation_0-auc:0.94922\tvalidation_1-auc:0.94632\n",
      "[45]\tvalidation_0-auc:0.94931\tvalidation_1-auc:0.94635\n",
      "[46]\tvalidation_0-auc:0.94951\tvalidation_1-auc:0.94644\n",
      "[47]\tvalidation_0-auc:0.94961\tvalidation_1-auc:0.94646\n",
      "[48]\tvalidation_0-auc:0.94966\tvalidation_1-auc:0.94649\n",
      "[49]\tvalidation_0-auc:0.94979\tvalidation_1-auc:0.94651\n"
     ]
    },
    {
     "data": {
      "text/plain": [
       "XGBClassifier(base_score=0.5, booster='gbtree', colsample_bylevel=1,\n",
       "              colsample_bynode=1, colsample_bytree=1, gamma=0, gpu_id=-1,\n",
       "              importance_type='gain', interaction_constraints='',\n",
       "              learning_rate=0.300000012, max_delta_step=0, max_depth=6,\n",
       "              min_child_weight=15, missing=-1, monotone_constraints='()',\n",
       "              n_estimators=50, n_jobs=0, num_parallel_tree=1, random_state=0,\n",
       "              reg_alpha=0, reg_lambda=1, scale_pos_weight=1, subsample=1,\n",
       "              tree_method='exact', validate_parameters=1, verbosity=1)"
      ]
     },
     "execution_count": 373,
     "metadata": {},
     "output_type": "execute_result"
    }
   ],
   "source": [
    "clf_xgb.fit(\n",
    "    ids_X_train, ids_y_train,\n",
    "    eval_set=[(ids_X_train, ids_y_train), (ids_X_test, ids_y_test)],\n",
    "    eval_metric=\"auc\", verbose=True,\n",
    "#     sample_weight = ids_sw_train,\n",
    ")"
   ]
  },
  {
   "cell_type": "code",
   "execution_count": 374,
   "metadata": {
    "scrolled": true
   },
   "outputs": [
    {
     "name": "stdout",
     "output_type": "stream",
     "text": [
      "Learning rate set to 0.226911\n",
      "0:\ttest: 0.8750884\ttest1: 0.8758519\tbest: 0.8758519 (0)\ttotal: 523ms\tremaining: 8m 42s\n",
      "10:\ttest: 0.9277928\ttest1: 0.9283274\tbest: 0.9283274 (10)\ttotal: 3.6s\tremaining: 5m 23s\n",
      "20:\ttest: 0.9361684\ttest1: 0.9367793\tbest: 0.9367793 (20)\ttotal: 6.8s\tremaining: 5m 16s\n",
      "30:\ttest: 0.9381610\ttest1: 0.9386225\tbest: 0.9386225 (30)\ttotal: 10.2s\tremaining: 5m 17s\n",
      "40:\ttest: 0.9396588\ttest1: 0.9399586\tbest: 0.9399586 (40)\ttotal: 13.6s\tremaining: 5m 17s\n",
      "50:\ttest: 0.9407918\ttest1: 0.9409705\tbest: 0.9409705 (50)\ttotal: 16.9s\tremaining: 5m 15s\n",
      "60:\ttest: 0.9415648\ttest1: 0.9416751\tbest: 0.9416751 (60)\ttotal: 20.2s\tremaining: 5m 11s\n",
      "70:\ttest: 0.9421728\ttest1: 0.9421572\tbest: 0.9421572 (70)\ttotal: 23.6s\tremaining: 5m 8s\n",
      "80:\ttest: 0.9429292\ttest1: 0.9428928\tbest: 0.9428928 (80)\ttotal: 26.9s\tremaining: 5m 5s\n",
      "90:\ttest: 0.9435390\ttest1: 0.9434040\tbest: 0.9434040 (90)\ttotal: 30.2s\tremaining: 5m 1s\n",
      "100:\ttest: 0.9438036\ttest1: 0.9435677\tbest: 0.9435677 (100)\ttotal: 33.5s\tremaining: 4m 58s\n",
      "110:\ttest: 0.9439896\ttest1: 0.9436738\tbest: 0.9436738 (110)\ttotal: 36.8s\tremaining: 4m 54s\n",
      "120:\ttest: 0.9443268\ttest1: 0.9439051\tbest: 0.9439051 (120)\ttotal: 40s\tremaining: 4m 50s\n",
      "130:\ttest: 0.9445831\ttest1: 0.9441216\tbest: 0.9441216 (130)\ttotal: 43.4s\tremaining: 4m 47s\n",
      "140:\ttest: 0.9447912\ttest1: 0.9442426\tbest: 0.9442426 (140)\ttotal: 46.6s\tremaining: 4m 44s\n",
      "150:\ttest: 0.9449463\ttest1: 0.9443277\tbest: 0.9443277 (150)\ttotal: 49.9s\tremaining: 4m 40s\n",
      "160:\ttest: 0.9452677\ttest1: 0.9446016\tbest: 0.9446016 (160)\ttotal: 53.2s\tremaining: 4m 37s\n",
      "170:\ttest: 0.9454607\ttest1: 0.9447356\tbest: 0.9447356 (170)\ttotal: 56.5s\tremaining: 4m 33s\n",
      "180:\ttest: 0.9456341\ttest1: 0.9448625\tbest: 0.9448625 (180)\ttotal: 59.8s\tremaining: 4m 30s\n",
      "190:\ttest: 0.9458030\ttest1: 0.9449533\tbest: 0.9449533 (190)\ttotal: 1m 3s\tremaining: 4m 27s\n",
      "200:\ttest: 0.9459783\ttest1: 0.9450589\tbest: 0.9450589 (200)\ttotal: 1m 6s\tremaining: 4m 23s\n",
      "210:\ttest: 0.9460872\ttest1: 0.9451152\tbest: 0.9451152 (210)\ttotal: 1m 9s\tremaining: 4m 20s\n",
      "220:\ttest: 0.9464989\ttest1: 0.9454654\tbest: 0.9454654 (220)\ttotal: 1m 12s\tremaining: 4m 16s\n",
      "230:\ttest: 0.9466372\ttest1: 0.9455355\tbest: 0.9455355 (230)\ttotal: 1m 16s\tremaining: 4m 13s\n",
      "240:\ttest: 0.9467323\ttest1: 0.9455657\tbest: 0.9455657 (240)\ttotal: 1m 19s\tremaining: 4m 9s\n",
      "250:\ttest: 0.9468439\ttest1: 0.9456160\tbest: 0.9456160 (250)\ttotal: 1m 22s\tremaining: 4m 6s\n",
      "260:\ttest: 0.9469281\ttest1: 0.9456365\tbest: 0.9456365 (260)\ttotal: 1m 25s\tremaining: 4m 2s\n",
      "270:\ttest: 0.9470353\ttest1: 0.9456683\tbest: 0.9456683 (270)\ttotal: 1m 28s\tremaining: 3m 59s\n",
      "280:\ttest: 0.9471903\ttest1: 0.9457479\tbest: 0.9457479 (280)\ttotal: 1m 32s\tremaining: 3m 55s\n",
      "290:\ttest: 0.9472692\ttest1: 0.9457660\tbest: 0.9457660 (290)\ttotal: 1m 35s\tremaining: 3m 52s\n",
      "300:\ttest: 0.9473353\ttest1: 0.9457838\tbest: 0.9457838 (300)\ttotal: 1m 38s\tremaining: 3m 48s\n",
      "310:\ttest: 0.9474389\ttest1: 0.9458137\tbest: 0.9458137 (310)\ttotal: 1m 41s\tremaining: 3m 45s\n",
      "320:\ttest: 0.9475456\ttest1: 0.9458736\tbest: 0.9458736 (320)\ttotal: 1m 45s\tremaining: 3m 42s\n",
      "330:\ttest: 0.9476358\ttest1: 0.9458947\tbest: 0.9458947 (330)\ttotal: 1m 48s\tremaining: 3m 38s\n",
      "340:\ttest: 0.9477065\ttest1: 0.9459083\tbest: 0.9459083 (340)\ttotal: 1m 51s\tremaining: 3m 35s\n",
      "350:\ttest: 0.9478055\ttest1: 0.9459424\tbest: 0.9459424 (350)\ttotal: 1m 54s\tremaining: 3m 32s\n",
      "360:\ttest: 0.9478753\ttest1: 0.9459572\tbest: 0.9459572 (360)\ttotal: 1m 58s\tremaining: 3m 29s\n",
      "370:\ttest: 0.9479695\ttest1: 0.9460051\tbest: 0.9460051 (370)\ttotal: 2m 1s\tremaining: 3m 26s\n",
      "380:\ttest: 0.9480626\ttest1: 0.9460264\tbest: 0.9460264 (380)\ttotal: 2m 4s\tremaining: 3m 22s\n",
      "390:\ttest: 0.9481337\ttest1: 0.9460268\tbest: 0.9460268 (390)\ttotal: 2m 8s\tremaining: 3m 19s\n",
      "400:\ttest: 0.9482159\ttest1: 0.9460433\tbest: 0.9460433 (400)\ttotal: 2m 11s\tremaining: 3m 16s\n",
      "410:\ttest: 0.9483341\ttest1: 0.9460835\tbest: 0.9460835 (410)\ttotal: 2m 14s\tremaining: 3m 13s\n",
      "420:\ttest: 0.9484101\ttest1: 0.9461032\tbest: 0.9461032 (420)\ttotal: 2m 17s\tremaining: 3m 9s\n",
      "430:\ttest: 0.9484869\ttest1: 0.9461225\tbest: 0.9461225 (430)\ttotal: 2m 21s\tremaining: 3m 6s\n",
      "440:\ttest: 0.9485513\ttest1: 0.9461377\tbest: 0.9461377 (440)\ttotal: 2m 24s\tremaining: 3m 3s\n",
      "450:\ttest: 0.9486333\ttest1: 0.9461679\tbest: 0.9461679 (450)\ttotal: 2m 27s\tremaining: 2m 59s\n",
      "460:\ttest: 0.9487057\ttest1: 0.9461661\tbest: 0.9461679 (450)\ttotal: 2m 30s\tremaining: 2m 56s\n",
      "470:\ttest: 0.9487709\ttest1: 0.9461744\tbest: 0.9461744 (470)\ttotal: 2m 34s\tremaining: 2m 53s\n",
      "480:\ttest: 0.9488453\ttest1: 0.9462170\tbest: 0.9462170 (480)\ttotal: 2m 37s\tremaining: 2m 49s\n",
      "490:\ttest: 0.9489281\ttest1: 0.9462428\tbest: 0.9462428 (490)\ttotal: 2m 40s\tremaining: 2m 46s\n",
      "500:\ttest: 0.9490126\ttest1: 0.9462625\tbest: 0.9462625 (500)\ttotal: 2m 43s\tremaining: 2m 43s\n",
      "510:\ttest: 0.9490894\ttest1: 0.9462864\tbest: 0.9462864 (510)\ttotal: 2m 47s\tremaining: 2m 40s\n",
      "520:\ttest: 0.9491453\ttest1: 0.9462875\tbest: 0.9462875 (520)\ttotal: 2m 50s\tremaining: 2m 36s\n",
      "530:\ttest: 0.9491882\ttest1: 0.9462932\tbest: 0.9462932 (530)\ttotal: 2m 53s\tremaining: 2m 33s\n",
      "540:\ttest: 0.9492713\ttest1: 0.9463126\tbest: 0.9463126 (540)\ttotal: 2m 56s\tremaining: 2m 30s\n",
      "550:\ttest: 0.9493169\ttest1: 0.9463146\tbest: 0.9463146 (550)\ttotal: 3m\tremaining: 2m 26s\n",
      "560:\ttest: 0.9493920\ttest1: 0.9463306\tbest: 0.9463306 (560)\ttotal: 3m 3s\tremaining: 2m 23s\n",
      "570:\ttest: 0.9494696\ttest1: 0.9463486\tbest: 0.9463486 (570)\ttotal: 3m 6s\tremaining: 2m 20s\n",
      "580:\ttest: 0.9495794\ttest1: 0.9463710\tbest: 0.9463710 (580)\ttotal: 3m 9s\tremaining: 2m 16s\n",
      "590:\ttest: 0.9496392\ttest1: 0.9463653\tbest: 0.9463710 (580)\ttotal: 3m 13s\tremaining: 2m 13s\n",
      "600:\ttest: 0.9496930\ttest1: 0.9463700\tbest: 0.9463710 (580)\ttotal: 3m 16s\tremaining: 2m 10s\n",
      "610:\ttest: 0.9497674\ttest1: 0.9463820\tbest: 0.9463820 (610)\ttotal: 3m 19s\tremaining: 2m 7s\n",
      "620:\ttest: 0.9498319\ttest1: 0.9463900\tbest: 0.9463900 (620)\ttotal: 3m 22s\tremaining: 2m 3s\n",
      "630:\ttest: 0.9499469\ttest1: 0.9464332\tbest: 0.9464332 (630)\ttotal: 3m 26s\tremaining: 2m\n",
      "640:\ttest: 0.9500374\ttest1: 0.9464796\tbest: 0.9464796 (640)\ttotal: 3m 29s\tremaining: 1m 57s\n",
      "650:\ttest: 0.9501361\ttest1: 0.9465209\tbest: 0.9465209 (650)\ttotal: 3m 32s\tremaining: 1m 54s\n",
      "660:\ttest: 0.9502041\ttest1: 0.9465456\tbest: 0.9465456 (660)\ttotal: 3m 36s\tremaining: 1m 50s\n",
      "670:\ttest: 0.9502451\ttest1: 0.9465246\tbest: 0.9465456 (660)\ttotal: 3m 39s\tremaining: 1m 47s\n",
      "680:\ttest: 0.9502968\ttest1: 0.9465286\tbest: 0.9465456 (660)\ttotal: 3m 42s\tremaining: 1m 44s\n",
      "690:\ttest: 0.9503661\ttest1: 0.9465498\tbest: 0.9465498 (690)\ttotal: 3m 45s\tremaining: 1m 40s\n",
      "700:\ttest: 0.9504260\ttest1: 0.9465555\tbest: 0.9465555 (700)\ttotal: 3m 49s\tremaining: 1m 37s\n",
      "710:\ttest: 0.9504672\ttest1: 0.9465497\tbest: 0.9465555 (700)\ttotal: 3m 52s\tremaining: 1m 34s\n",
      "720:\ttest: 0.9505377\ttest1: 0.9465663\tbest: 0.9465663 (720)\ttotal: 3m 55s\tremaining: 1m 31s\n",
      "730:\ttest: 0.9505814\ttest1: 0.9465639\tbest: 0.9465663 (720)\ttotal: 3m 58s\tremaining: 1m 27s\n",
      "740:\ttest: 0.9506319\ttest1: 0.9465728\tbest: 0.9465728 (740)\ttotal: 4m 1s\tremaining: 1m 24s\n",
      "750:\ttest: 0.9506922\ttest1: 0.9465663\tbest: 0.9465728 (740)\ttotal: 4m 5s\tremaining: 1m 21s\n",
      "760:\ttest: 0.9507407\ttest1: 0.9465666\tbest: 0.9465728 (740)\ttotal: 4m 8s\tremaining: 1m 18s\n",
      "770:\ttest: 0.9507914\ttest1: 0.9465663\tbest: 0.9465728 (740)\ttotal: 4m 11s\tremaining: 1m 14s\n",
      "780:\ttest: 0.9508528\ttest1: 0.9465694\tbest: 0.9465728 (740)\ttotal: 4m 15s\tremaining: 1m 11s\n",
      "790:\ttest: 0.9509329\ttest1: 0.9465725\tbest: 0.9465728 (740)\ttotal: 4m 18s\tremaining: 1m 8s\n",
      "800:\ttest: 0.9509726\ttest1: 0.9465758\tbest: 0.9465758 (800)\ttotal: 4m 21s\tremaining: 1m 5s\n",
      "810:\ttest: 0.9510238\ttest1: 0.9465773\tbest: 0.9465773 (810)\ttotal: 4m 24s\tremaining: 1m 1s\n",
      "820:\ttest: 0.9510792\ttest1: 0.9465717\tbest: 0.9465773 (810)\ttotal: 4m 28s\tremaining: 58.5s\n",
      "830:\ttest: 0.9511835\ttest1: 0.9466314\tbest: 0.9466314 (830)\ttotal: 4m 31s\tremaining: 55.2s\n",
      "840:\ttest: 0.9512292\ttest1: 0.9466359\tbest: 0.9466359 (840)\ttotal: 4m 34s\tremaining: 52s\n",
      "850:\ttest: 0.9512802\ttest1: 0.9466360\tbest: 0.9466360 (850)\ttotal: 4m 38s\tremaining: 48.7s\n",
      "860:\ttest: 0.9513442\ttest1: 0.9466417\tbest: 0.9466417 (860)\ttotal: 4m 41s\tremaining: 45.4s\n",
      "870:\ttest: 0.9514059\ttest1: 0.9466381\tbest: 0.9466417 (860)\ttotal: 4m 44s\tremaining: 42.2s\n",
      "880:\ttest: 0.9514527\ttest1: 0.9466329\tbest: 0.9466417 (860)\ttotal: 4m 47s\tremaining: 38.9s\n",
      "890:\ttest: 0.9515051\ttest1: 0.9466301\tbest: 0.9466417 (860)\ttotal: 4m 51s\tremaining: 35.6s\n"
     ]
    },
    {
     "name": "stdout",
     "output_type": "stream",
     "text": [
      "900:\ttest: 0.9515485\ttest1: 0.9466324\tbest: 0.9466417 (860)\ttotal: 4m 54s\tremaining: 32.3s\n",
      "910:\ttest: 0.9515987\ttest1: 0.9466355\tbest: 0.9466417 (860)\ttotal: 4m 57s\tremaining: 29.1s\n",
      "920:\ttest: 0.9516472\ttest1: 0.9466313\tbest: 0.9466417 (860)\ttotal: 5m\tremaining: 25.8s\n",
      "930:\ttest: 0.9516921\ttest1: 0.9466280\tbest: 0.9466417 (860)\ttotal: 5m 4s\tremaining: 22.5s\n",
      "940:\ttest: 0.9517437\ttest1: 0.9466467\tbest: 0.9466467 (940)\ttotal: 5m 7s\tremaining: 19.3s\n",
      "950:\ttest: 0.9517956\ttest1: 0.9466479\tbest: 0.9466479 (950)\ttotal: 5m 10s\tremaining: 16s\n",
      "960:\ttest: 0.9518631\ttest1: 0.9466435\tbest: 0.9466479 (950)\ttotal: 5m 14s\tremaining: 12.7s\n",
      "970:\ttest: 0.9519123\ttest1: 0.9466346\tbest: 0.9466479 (950)\ttotal: 5m 17s\tremaining: 9.48s\n",
      "980:\ttest: 0.9519766\ttest1: 0.9466276\tbest: 0.9466479 (950)\ttotal: 5m 20s\tremaining: 6.21s\n",
      "990:\ttest: 0.9520226\ttest1: 0.9466189\tbest: 0.9466479 (950)\ttotal: 5m 24s\tremaining: 2.94s\n",
      "999:\ttest: 0.9520639\ttest1: 0.9466109\tbest: 0.9466479 (950)\ttotal: 5m 27s\tremaining: 0us\n",
      "\n",
      "bestTest = 0.9466478928\n",
      "bestIteration = 950\n",
      "\n",
      "Shrink model to first 951 iterations.\n"
     ]
    },
    {
     "data": {
      "text/plain": [
       "<catboost.core.CatBoostClassifier at 0x2a73d567548>"
      ]
     },
     "execution_count": 374,
     "metadata": {},
     "output_type": "execute_result"
    }
   ],
   "source": [
    "clf_cat.fit(\n",
    "    ids_X_train, ids_y_train,\n",
    "    eval_set=[(ids_X_train, ids_y_train), (ids_X_test, ids_y_test)],\n",
    "#     eval_metric=\"auc\", verbose=True,\n",
    ")"
   ]
  },
  {
   "cell_type": "code",
   "execution_count": 375,
   "metadata": {
    "scrolled": true
   },
   "outputs": [
    {
     "name": "stdout",
     "output_type": "stream",
     "text": [
      "[1]\ttraining's auc: 0.898601\ttraining's binary_logloss: 0.087164\tvalid_1's auc: 0.898962\tvalid_1's binary_logloss: 0.0873183\n",
      "[2]\ttraining's auc: 0.924608\ttraining's binary_logloss: 0.0825167\tvalid_1's auc: 0.925679\tvalid_1's binary_logloss: 0.0826777\n",
      "[3]\ttraining's auc: 0.932236\ttraining's binary_logloss: 0.0791883\tvalid_1's auc: 0.932851\tvalid_1's binary_logloss: 0.0793483\n",
      "[4]\ttraining's auc: 0.932621\ttraining's binary_logloss: 0.0765705\tvalid_1's auc: 0.933232\tvalid_1's binary_logloss: 0.0767274\n",
      "[5]\ttraining's auc: 0.932821\ttraining's binary_logloss: 0.074487\tvalid_1's auc: 0.93344\tvalid_1's binary_logloss: 0.0746382\n",
      "[6]\ttraining's auc: 0.934713\ttraining's binary_logloss: 0.0727754\tvalid_1's auc: 0.935234\tvalid_1's binary_logloss: 0.0729238\n",
      "[7]\ttraining's auc: 0.935201\ttraining's binary_logloss: 0.0713361\tvalid_1's auc: 0.93573\tvalid_1's binary_logloss: 0.0714797\n",
      "[8]\ttraining's auc: 0.935391\ttraining's binary_logloss: 0.0700973\tvalid_1's auc: 0.93591\tvalid_1's binary_logloss: 0.0702325\n",
      "[9]\ttraining's auc: 0.935624\ttraining's binary_logloss: 0.0690496\tvalid_1's auc: 0.936102\tvalid_1's binary_logloss: 0.0691804\n",
      "[10]\ttraining's auc: 0.935785\ttraining's binary_logloss: 0.0681689\tvalid_1's auc: 0.936246\tvalid_1's binary_logloss: 0.0682999\n",
      "[11]\ttraining's auc: 0.937156\ttraining's binary_logloss: 0.0673806\tvalid_1's auc: 0.937551\tvalid_1's binary_logloss: 0.0675097\n",
      "[12]\ttraining's auc: 0.937403\ttraining's binary_logloss: 0.0666976\tvalid_1's auc: 0.937809\tvalid_1's binary_logloss: 0.0668243\n",
      "[13]\ttraining's auc: 0.937572\ttraining's binary_logloss: 0.0660965\tvalid_1's auc: 0.937976\tvalid_1's binary_logloss: 0.0662209\n",
      "[14]\ttraining's auc: 0.937937\ttraining's binary_logloss: 0.0655867\tvalid_1's auc: 0.938254\tvalid_1's binary_logloss: 0.0657102\n",
      "[15]\ttraining's auc: 0.938118\ttraining's binary_logloss: 0.0651259\tvalid_1's auc: 0.938438\tvalid_1's binary_logloss: 0.0652454\n",
      "[16]\ttraining's auc: 0.938212\ttraining's binary_logloss: 0.0647358\tvalid_1's auc: 0.938533\tvalid_1's binary_logloss: 0.0648519\n",
      "[17]\ttraining's auc: 0.938373\ttraining's binary_logloss: 0.0643817\tvalid_1's auc: 0.93866\tvalid_1's binary_logloss: 0.0644978\n",
      "[18]\ttraining's auc: 0.93879\ttraining's binary_logloss: 0.0640656\tvalid_1's auc: 0.93908\tvalid_1's binary_logloss: 0.064184\n",
      "[19]\ttraining's auc: 0.939011\ttraining's binary_logloss: 0.0637744\tvalid_1's auc: 0.939287\tvalid_1's binary_logloss: 0.0638969\n",
      "[20]\ttraining's auc: 0.939234\ttraining's binary_logloss: 0.0635257\tvalid_1's auc: 0.939479\tvalid_1's binary_logloss: 0.0636523\n",
      "[21]\ttraining's auc: 0.939424\ttraining's binary_logloss: 0.0633021\tvalid_1's auc: 0.939657\tvalid_1's binary_logloss: 0.0634303\n",
      "[22]\ttraining's auc: 0.939598\ttraining's binary_logloss: 0.0631001\tvalid_1's auc: 0.939811\tvalid_1's binary_logloss: 0.0632305\n",
      "[23]\ttraining's auc: 0.940681\ttraining's binary_logloss: 0.0629257\tvalid_1's auc: 0.940892\tvalid_1's binary_logloss: 0.0630602\n",
      "[24]\ttraining's auc: 0.940769\ttraining's binary_logloss: 0.0627694\tvalid_1's auc: 0.940969\tvalid_1's binary_logloss: 0.062907\n",
      "[25]\ttraining's auc: 0.940939\ttraining's binary_logloss: 0.0626273\tvalid_1's auc: 0.941122\tvalid_1's binary_logloss: 0.0627692\n",
      "[26]\ttraining's auc: 0.941071\ttraining's binary_logloss: 0.0624959\tvalid_1's auc: 0.941248\tvalid_1's binary_logloss: 0.062641\n",
      "[27]\ttraining's auc: 0.94163\ttraining's binary_logloss: 0.062375\tvalid_1's auc: 0.941669\tvalid_1's binary_logloss: 0.0625321\n",
      "[28]\ttraining's auc: 0.941758\ttraining's binary_logloss: 0.0622608\tvalid_1's auc: 0.941806\tvalid_1's binary_logloss: 0.0624182\n",
      "[29]\ttraining's auc: 0.94202\ttraining's binary_logloss: 0.0621632\tvalid_1's auc: 0.942045\tvalid_1's binary_logloss: 0.0623232\n",
      "[30]\ttraining's auc: 0.942144\ttraining's binary_logloss: 0.0620597\tvalid_1's auc: 0.942166\tvalid_1's binary_logloss: 0.0622252\n",
      "[31]\ttraining's auc: 0.94237\ttraining's binary_logloss: 0.0619714\tvalid_1's auc: 0.942343\tvalid_1's binary_logloss: 0.0621405\n",
      "[32]\ttraining's auc: 0.94253\ttraining's binary_logloss: 0.0618912\tvalid_1's auc: 0.942508\tvalid_1's binary_logloss: 0.0620665\n",
      "[33]\ttraining's auc: 0.942706\ttraining's binary_logloss: 0.0618177\tvalid_1's auc: 0.942742\tvalid_1's binary_logloss: 0.0619983\n",
      "[34]\ttraining's auc: 0.94292\ttraining's binary_logloss: 0.061747\tvalid_1's auc: 0.942859\tvalid_1's binary_logloss: 0.0619337\n",
      "[35]\ttraining's auc: 0.943066\ttraining's binary_logloss: 0.0616792\tvalid_1's auc: 0.942986\tvalid_1's binary_logloss: 0.0618723\n",
      "[36]\ttraining's auc: 0.943218\ttraining's binary_logloss: 0.0616197\tvalid_1's auc: 0.943065\tvalid_1's binary_logloss: 0.0618176\n",
      "[37]\ttraining's auc: 0.943308\ttraining's binary_logloss: 0.0615547\tvalid_1's auc: 0.943129\tvalid_1's binary_logloss: 0.0617578\n",
      "[38]\ttraining's auc: 0.94342\ttraining's binary_logloss: 0.0615011\tvalid_1's auc: 0.943209\tvalid_1's binary_logloss: 0.0617079\n",
      "[39]\ttraining's auc: 0.943543\ttraining's binary_logloss: 0.061442\tvalid_1's auc: 0.943314\tvalid_1's binary_logloss: 0.0616574\n",
      "[40]\ttraining's auc: 0.943736\ttraining's binary_logloss: 0.0613875\tvalid_1's auc: 0.943467\tvalid_1's binary_logloss: 0.0616126\n",
      "[41]\ttraining's auc: 0.94383\ttraining's binary_logloss: 0.0613439\tvalid_1's auc: 0.943546\tvalid_1's binary_logloss: 0.0615748\n",
      "[42]\ttraining's auc: 0.944011\ttraining's binary_logloss: 0.061299\tvalid_1's auc: 0.943686\tvalid_1's binary_logloss: 0.0615392\n",
      "[43]\ttraining's auc: 0.94415\ttraining's binary_logloss: 0.0612571\tvalid_1's auc: 0.943791\tvalid_1's binary_logloss: 0.0615041\n",
      "[44]\ttraining's auc: 0.944298\ttraining's binary_logloss: 0.0612149\tvalid_1's auc: 0.943918\tvalid_1's binary_logloss: 0.061468\n",
      "[45]\ttraining's auc: 0.944384\ttraining's binary_logloss: 0.0611721\tvalid_1's auc: 0.943977\tvalid_1's binary_logloss: 0.0614317\n",
      "[46]\ttraining's auc: 0.94453\ttraining's binary_logloss: 0.0611344\tvalid_1's auc: 0.944092\tvalid_1's binary_logloss: 0.0614037\n",
      "[47]\ttraining's auc: 0.944651\ttraining's binary_logloss: 0.0610969\tvalid_1's auc: 0.944173\tvalid_1's binary_logloss: 0.0613756\n",
      "[48]\ttraining's auc: 0.94473\ttraining's binary_logloss: 0.0610628\tvalid_1's auc: 0.944233\tvalid_1's binary_logloss: 0.0613481\n",
      "[49]\ttraining's auc: 0.944848\ttraining's binary_logloss: 0.0610255\tvalid_1's auc: 0.944333\tvalid_1's binary_logloss: 0.0613179\n",
      "[50]\ttraining's auc: 0.944921\ttraining's binary_logloss: 0.0609929\tvalid_1's auc: 0.944382\tvalid_1's binary_logloss: 0.0612949\n",
      "[51]\ttraining's auc: 0.945006\ttraining's binary_logloss: 0.0609645\tvalid_1's auc: 0.944442\tvalid_1's binary_logloss: 0.0612721\n",
      "[52]\ttraining's auc: 0.945093\ttraining's binary_logloss: 0.0609334\tvalid_1's auc: 0.944493\tvalid_1's binary_logloss: 0.0612513\n",
      "[53]\ttraining's auc: 0.945181\ttraining's binary_logloss: 0.060902\tvalid_1's auc: 0.944567\tvalid_1's binary_logloss: 0.0612264\n",
      "[54]\ttraining's auc: 0.945289\ttraining's binary_logloss: 0.0608697\tvalid_1's auc: 0.944656\tvalid_1's binary_logloss: 0.0612016\n",
      "[55]\ttraining's auc: 0.945353\ttraining's binary_logloss: 0.0608382\tvalid_1's auc: 0.944697\tvalid_1's binary_logloss: 0.0611806\n",
      "[56]\ttraining's auc: 0.945442\ttraining's binary_logloss: 0.0608089\tvalid_1's auc: 0.944777\tvalid_1's binary_logloss: 0.0611577\n",
      "[57]\ttraining's auc: 0.945521\ttraining's binary_logloss: 0.0607831\tvalid_1's auc: 0.944822\tvalid_1's binary_logloss: 0.0611412\n",
      "[58]\ttraining's auc: 0.945603\ttraining's binary_logloss: 0.0607569\tvalid_1's auc: 0.944879\tvalid_1's binary_logloss: 0.0611244\n",
      "[59]\ttraining's auc: 0.94571\ttraining's binary_logloss: 0.0607286\tvalid_1's auc: 0.944957\tvalid_1's binary_logloss: 0.0611051\n",
      "[60]\ttraining's auc: 0.945786\ttraining's binary_logloss: 0.060705\tvalid_1's auc: 0.945013\tvalid_1's binary_logloss: 0.0610888\n",
      "[61]\ttraining's auc: 0.945844\ttraining's binary_logloss: 0.0606804\tvalid_1's auc: 0.945059\tvalid_1's binary_logloss: 0.0610731\n",
      "[62]\ttraining's auc: 0.94596\ttraining's binary_logloss: 0.0606553\tvalid_1's auc: 0.945138\tvalid_1's binary_logloss: 0.0610549\n",
      "[63]\ttraining's auc: 0.946022\ttraining's binary_logloss: 0.0606304\tvalid_1's auc: 0.945192\tvalid_1's binary_logloss: 0.061036\n",
      "[64]\ttraining's auc: 0.946113\ttraining's binary_logloss: 0.0606046\tvalid_1's auc: 0.945252\tvalid_1's binary_logloss: 0.0610171\n",
      "[65]\ttraining's auc: 0.946166\ttraining's binary_logloss: 0.060585\tvalid_1's auc: 0.945281\tvalid_1's binary_logloss: 0.0610066\n"
     ]
    },
    {
     "name": "stdout",
     "output_type": "stream",
     "text": [
      "[66]\ttraining's auc: 0.946223\ttraining's binary_logloss: 0.0605646\tvalid_1's auc: 0.945322\tvalid_1's binary_logloss: 0.0609943\n",
      "[67]\ttraining's auc: 0.946273\ttraining's binary_logloss: 0.060542\tvalid_1's auc: 0.945361\tvalid_1's binary_logloss: 0.0609778\n",
      "[68]\ttraining's auc: 0.946322\ttraining's binary_logloss: 0.0605211\tvalid_1's auc: 0.945373\tvalid_1's binary_logloss: 0.0609663\n",
      "[69]\ttraining's auc: 0.94642\ttraining's binary_logloss: 0.0604957\tvalid_1's auc: 0.945446\tvalid_1's binary_logloss: 0.0609473\n",
      "[70]\ttraining's auc: 0.946468\ttraining's binary_logloss: 0.0604756\tvalid_1's auc: 0.945472\tvalid_1's binary_logloss: 0.0609375\n",
      "[71]\ttraining's auc: 0.94656\ttraining's binary_logloss: 0.060454\tvalid_1's auc: 0.945525\tvalid_1's binary_logloss: 0.060924\n",
      "[72]\ttraining's auc: 0.946593\ttraining's binary_logloss: 0.060435\tvalid_1's auc: 0.945542\tvalid_1's binary_logloss: 0.0609157\n",
      "[73]\ttraining's auc: 0.946662\ttraining's binary_logloss: 0.060415\tvalid_1's auc: 0.945596\tvalid_1's binary_logloss: 0.0609024\n",
      "[74]\ttraining's auc: 0.946708\ttraining's binary_logloss: 0.0603965\tvalid_1's auc: 0.945619\tvalid_1's binary_logloss: 0.0608927\n",
      "[75]\ttraining's auc: 0.946769\ttraining's binary_logloss: 0.060377\tvalid_1's auc: 0.945663\tvalid_1's binary_logloss: 0.0608802\n",
      "[76]\ttraining's auc: 0.946798\ttraining's binary_logloss: 0.0603558\tvalid_1's auc: 0.945683\tvalid_1's binary_logloss: 0.0608647\n",
      "[77]\ttraining's auc: 0.946836\ttraining's binary_logloss: 0.060337\tvalid_1's auc: 0.945706\tvalid_1's binary_logloss: 0.0608561\n",
      "[78]\ttraining's auc: 0.946885\ttraining's binary_logloss: 0.0603191\tvalid_1's auc: 0.945734\tvalid_1's binary_logloss: 0.0608478\n",
      "[79]\ttraining's auc: 0.946962\ttraining's binary_logloss: 0.0602989\tvalid_1's auc: 0.945778\tvalid_1's binary_logloss: 0.0608367\n",
      "[80]\ttraining's auc: 0.946995\ttraining's binary_logloss: 0.0602828\tvalid_1's auc: 0.945796\tvalid_1's binary_logloss: 0.0608305\n",
      "[81]\ttraining's auc: 0.947034\ttraining's binary_logloss: 0.0602659\tvalid_1's auc: 0.945819\tvalid_1's binary_logloss: 0.0608217\n",
      "[82]\ttraining's auc: 0.947063\ttraining's binary_logloss: 0.0602482\tvalid_1's auc: 0.945834\tvalid_1's binary_logloss: 0.0608123\n",
      "[83]\ttraining's auc: 0.947102\ttraining's binary_logloss: 0.0602292\tvalid_1's auc: 0.945861\tvalid_1's binary_logloss: 0.0608016\n",
      "[84]\ttraining's auc: 0.947127\ttraining's binary_logloss: 0.060213\tvalid_1's auc: 0.945866\tvalid_1's binary_logloss: 0.0607957\n",
      "[85]\ttraining's auc: 0.947183\ttraining's binary_logloss: 0.0601951\tvalid_1's auc: 0.945899\tvalid_1's binary_logloss: 0.060787\n",
      "[86]\ttraining's auc: 0.947228\ttraining's binary_logloss: 0.0601783\tvalid_1's auc: 0.945927\tvalid_1's binary_logloss: 0.060778\n",
      "[87]\ttraining's auc: 0.947276\ttraining's binary_logloss: 0.0601613\tvalid_1's auc: 0.945962\tvalid_1's binary_logloss: 0.0607674\n",
      "[88]\ttraining's auc: 0.94731\ttraining's binary_logloss: 0.0601471\tvalid_1's auc: 0.945973\tvalid_1's binary_logloss: 0.0607613\n",
      "[89]\ttraining's auc: 0.947351\ttraining's binary_logloss: 0.0601307\tvalid_1's auc: 0.945997\tvalid_1's binary_logloss: 0.0607522\n",
      "[90]\ttraining's auc: 0.94739\ttraining's binary_logloss: 0.0601106\tvalid_1's auc: 0.946027\tvalid_1's binary_logloss: 0.0607382\n",
      "[91]\ttraining's auc: 0.947437\ttraining's binary_logloss: 0.0600943\tvalid_1's auc: 0.946059\tvalid_1's binary_logloss: 0.0607293\n",
      "[92]\ttraining's auc: 0.94746\ttraining's binary_logloss: 0.0600787\tvalid_1's auc: 0.946076\tvalid_1's binary_logloss: 0.060723\n",
      "[93]\ttraining's auc: 0.947518\ttraining's binary_logloss: 0.060057\tvalid_1's auc: 0.946114\tvalid_1's binary_logloss: 0.0607089\n",
      "[94]\ttraining's auc: 0.947559\ttraining's binary_logloss: 0.0600405\tvalid_1's auc: 0.946134\tvalid_1's binary_logloss: 0.0607021\n",
      "[95]\ttraining's auc: 0.947572\ttraining's binary_logloss: 0.0600262\tvalid_1's auc: 0.946138\tvalid_1's binary_logloss: 0.0606975\n",
      "[96]\ttraining's auc: 0.947608\ttraining's binary_logloss: 0.0600123\tvalid_1's auc: 0.946161\tvalid_1's binary_logloss: 0.0606915\n",
      "[97]\ttraining's auc: 0.947663\ttraining's binary_logloss: 0.0599972\tvalid_1's auc: 0.946193\tvalid_1's binary_logloss: 0.0606849\n",
      "[98]\ttraining's auc: 0.947689\ttraining's binary_logloss: 0.0599795\tvalid_1's auc: 0.94622\tvalid_1's binary_logloss: 0.0606729\n",
      "[99]\ttraining's auc: 0.947719\ttraining's binary_logloss: 0.0599667\tvalid_1's auc: 0.946231\tvalid_1's binary_logloss: 0.0606698\n",
      "[100]\ttraining's auc: 0.947732\ttraining's binary_logloss: 0.0599533\tvalid_1's auc: 0.946234\tvalid_1's binary_logloss: 0.0606648\n",
      "[101]\ttraining's auc: 0.947768\ttraining's binary_logloss: 0.0599372\tvalid_1's auc: 0.946256\tvalid_1's binary_logloss: 0.0606557\n",
      "[102]\ttraining's auc: 0.9478\ttraining's binary_logloss: 0.0599212\tvalid_1's auc: 0.946274\tvalid_1's binary_logloss: 0.0606473\n",
      "[103]\ttraining's auc: 0.947816\ttraining's binary_logloss: 0.0599087\tvalid_1's auc: 0.946277\tvalid_1's binary_logloss: 0.0606439\n",
      "[104]\ttraining's auc: 0.947856\ttraining's binary_logloss: 0.059896\tvalid_1's auc: 0.946295\tvalid_1's binary_logloss: 0.0606395\n",
      "[105]\ttraining's auc: 0.947881\ttraining's binary_logloss: 0.0598832\tvalid_1's auc: 0.946304\tvalid_1's binary_logloss: 0.0606361\n",
      "[106]\ttraining's auc: 0.947908\ttraining's binary_logloss: 0.05987\tvalid_1's auc: 0.946318\tvalid_1's binary_logloss: 0.0606312\n",
      "[107]\ttraining's auc: 0.947922\ttraining's binary_logloss: 0.0598553\tvalid_1's auc: 0.946323\tvalid_1's binary_logloss: 0.0606245\n",
      "[108]\ttraining's auc: 0.947949\ttraining's binary_logloss: 0.0598433\tvalid_1's auc: 0.946339\tvalid_1's binary_logloss: 0.0606207\n",
      "[109]\ttraining's auc: 0.947983\ttraining's binary_logloss: 0.0598303\tvalid_1's auc: 0.946351\tvalid_1's binary_logloss: 0.0606178\n",
      "[110]\ttraining's auc: 0.948016\ttraining's binary_logloss: 0.0598171\tvalid_1's auc: 0.946368\tvalid_1's binary_logloss: 0.0606124\n",
      "[111]\ttraining's auc: 0.948047\ttraining's binary_logloss: 0.0598039\tvalid_1's auc: 0.94638\tvalid_1's binary_logloss: 0.0606093\n",
      "[112]\ttraining's auc: 0.948087\ttraining's binary_logloss: 0.0597914\tvalid_1's auc: 0.946397\tvalid_1's binary_logloss: 0.0606058\n",
      "[113]\ttraining's auc: 0.948129\ttraining's binary_logloss: 0.0597785\tvalid_1's auc: 0.946407\tvalid_1's binary_logloss: 0.0606018\n",
      "[114]\ttraining's auc: 0.948172\ttraining's binary_logloss: 0.0597631\tvalid_1's auc: 0.946425\tvalid_1's binary_logloss: 0.0605939\n",
      "[115]\ttraining's auc: 0.948212\ttraining's binary_logloss: 0.0597498\tvalid_1's auc: 0.946443\tvalid_1's binary_logloss: 0.0605899\n",
      "[116]\ttraining's auc: 0.948223\ttraining's binary_logloss: 0.059737\tvalid_1's auc: 0.946444\tvalid_1's binary_logloss: 0.0605874\n",
      "[117]\ttraining's auc: 0.948241\ttraining's binary_logloss: 0.0597253\tvalid_1's auc: 0.946449\tvalid_1's binary_logloss: 0.0605846\n",
      "[118]\ttraining's auc: 0.948279\ttraining's binary_logloss: 0.0597122\tvalid_1's auc: 0.946467\tvalid_1's binary_logloss: 0.0605803\n",
      "[119]\ttraining's auc: 0.948292\ttraining's binary_logloss: 0.0597011\tvalid_1's auc: 0.946468\tvalid_1's binary_logloss: 0.0605782\n",
      "[120]\ttraining's auc: 0.948301\ttraining's binary_logloss: 0.059692\tvalid_1's auc: 0.946466\tvalid_1's binary_logloss: 0.0605777\n",
      "[121]\ttraining's auc: 0.948323\ttraining's binary_logloss: 0.0596816\tvalid_1's auc: 0.946469\tvalid_1's binary_logloss: 0.0605753\n",
      "[122]\ttraining's auc: 0.948343\ttraining's binary_logloss: 0.0596701\tvalid_1's auc: 0.946478\tvalid_1's binary_logloss: 0.0605722\n",
      "[123]\ttraining's auc: 0.948352\ttraining's binary_logloss: 0.0596581\tvalid_1's auc: 0.946482\tvalid_1's binary_logloss: 0.0605663\n",
      "[124]\ttraining's auc: 0.948403\ttraining's binary_logloss: 0.0596422\tvalid_1's auc: 0.9465\tvalid_1's binary_logloss: 0.0605603\n",
      "[125]\ttraining's auc: 0.948415\ttraining's binary_logloss: 0.0596312\tvalid_1's auc: 0.946503\tvalid_1's binary_logloss: 0.0605589\n",
      "[126]\ttraining's auc: 0.948428\ttraining's binary_logloss: 0.0596199\tvalid_1's auc: 0.946506\tvalid_1's binary_logloss: 0.0605573\n",
      "[127]\ttraining's auc: 0.948447\ttraining's binary_logloss: 0.0596086\tvalid_1's auc: 0.946515\tvalid_1's binary_logloss: 0.0605541\n",
      "[128]\ttraining's auc: 0.94847\ttraining's binary_logloss: 0.0595987\tvalid_1's auc: 0.946514\tvalid_1's binary_logloss: 0.0605546\n",
      "[129]\ttraining's auc: 0.948482\ttraining's binary_logloss: 0.0595856\tvalid_1's auc: 0.946518\tvalid_1's binary_logloss: 0.0605508\n",
      "[130]\ttraining's auc: 0.948534\ttraining's binary_logloss: 0.0595726\tvalid_1's auc: 0.946536\tvalid_1's binary_logloss: 0.0605482\n"
     ]
    },
    {
     "name": "stdout",
     "output_type": "stream",
     "text": [
      "[131]\ttraining's auc: 0.948552\ttraining's binary_logloss: 0.0595626\tvalid_1's auc: 0.946533\tvalid_1's binary_logloss: 0.0605492\n",
      "[132]\ttraining's auc: 0.948572\ttraining's binary_logloss: 0.0595488\tvalid_1's auc: 0.946548\tvalid_1's binary_logloss: 0.0605421\n",
      "[133]\ttraining's auc: 0.948602\ttraining's binary_logloss: 0.0595359\tvalid_1's auc: 0.946575\tvalid_1's binary_logloss: 0.0605349\n",
      "[134]\ttraining's auc: 0.948626\ttraining's binary_logloss: 0.0595229\tvalid_1's auc: 0.946586\tvalid_1's binary_logloss: 0.0605304\n",
      "[135]\ttraining's auc: 0.94866\ttraining's binary_logloss: 0.0595096\tvalid_1's auc: 0.946598\tvalid_1's binary_logloss: 0.0605265\n",
      "[136]\ttraining's auc: 0.94868\ttraining's binary_logloss: 0.0594988\tvalid_1's auc: 0.946601\tvalid_1's binary_logloss: 0.0605255\n",
      "[137]\ttraining's auc: 0.94871\ttraining's binary_logloss: 0.0594881\tvalid_1's auc: 0.946611\tvalid_1's binary_logloss: 0.0605243\n",
      "[138]\ttraining's auc: 0.948743\ttraining's binary_logloss: 0.0594782\tvalid_1's auc: 0.946614\tvalid_1's binary_logloss: 0.0605233\n",
      "[139]\ttraining's auc: 0.948748\ttraining's binary_logloss: 0.0594692\tvalid_1's auc: 0.946615\tvalid_1's binary_logloss: 0.0605225\n",
      "[140]\ttraining's auc: 0.94876\ttraining's binary_logloss: 0.0594606\tvalid_1's auc: 0.946614\tvalid_1's binary_logloss: 0.0605234\n",
      "[141]\ttraining's auc: 0.948799\ttraining's binary_logloss: 0.0594471\tvalid_1's auc: 0.946625\tvalid_1's binary_logloss: 0.0605216\n",
      "[142]\ttraining's auc: 0.948818\ttraining's binary_logloss: 0.0594318\tvalid_1's auc: 0.946638\tvalid_1's binary_logloss: 0.0605148\n",
      "[143]\ttraining's auc: 0.948858\ttraining's binary_logloss: 0.0594221\tvalid_1's auc: 0.946642\tvalid_1's binary_logloss: 0.0605134\n",
      "[144]\ttraining's auc: 0.948913\ttraining's binary_logloss: 0.059408\tvalid_1's auc: 0.946666\tvalid_1's binary_logloss: 0.0605082\n",
      "[145]\ttraining's auc: 0.948922\ttraining's binary_logloss: 0.0593976\tvalid_1's auc: 0.946667\tvalid_1's binary_logloss: 0.0605083\n",
      "[146]\ttraining's auc: 0.948949\ttraining's binary_logloss: 0.059389\tvalid_1's auc: 0.946668\tvalid_1's binary_logloss: 0.060508\n",
      "[147]\ttraining's auc: 0.948968\ttraining's binary_logloss: 0.0593797\tvalid_1's auc: 0.946673\tvalid_1's binary_logloss: 0.0605067\n",
      "[148]\ttraining's auc: 0.948976\ttraining's binary_logloss: 0.059371\tvalid_1's auc: 0.946676\tvalid_1's binary_logloss: 0.0605056\n",
      "[149]\ttraining's auc: 0.949006\ttraining's binary_logloss: 0.0593594\tvalid_1's auc: 0.946684\tvalid_1's binary_logloss: 0.0605028\n",
      "[150]\ttraining's auc: 0.949027\ttraining's binary_logloss: 0.0593488\tvalid_1's auc: 0.946689\tvalid_1's binary_logloss: 0.0605009\n",
      "[151]\ttraining's auc: 0.949052\ttraining's binary_logloss: 0.0593354\tvalid_1's auc: 0.946697\tvalid_1's binary_logloss: 0.0604967\n",
      "[152]\ttraining's auc: 0.94909\ttraining's binary_logloss: 0.0593247\tvalid_1's auc: 0.9467\tvalid_1's binary_logloss: 0.0604965\n",
      "[153]\ttraining's auc: 0.949098\ttraining's binary_logloss: 0.059314\tvalid_1's auc: 0.946702\tvalid_1's binary_logloss: 0.0604945\n",
      "[154]\ttraining's auc: 0.949116\ttraining's binary_logloss: 0.0593035\tvalid_1's auc: 0.946702\tvalid_1's binary_logloss: 0.0604945\n",
      "[155]\ttraining's auc: 0.949127\ttraining's binary_logloss: 0.0592937\tvalid_1's auc: 0.946703\tvalid_1's binary_logloss: 0.0604944\n",
      "[156]\ttraining's auc: 0.949146\ttraining's binary_logloss: 0.0592825\tvalid_1's auc: 0.946704\tvalid_1's binary_logloss: 0.0604938\n",
      "[157]\ttraining's auc: 0.949197\ttraining's binary_logloss: 0.0592707\tvalid_1's auc: 0.946711\tvalid_1's binary_logloss: 0.0604925\n",
      "[158]\ttraining's auc: 0.949205\ttraining's binary_logloss: 0.0592592\tvalid_1's auc: 0.946711\tvalid_1's binary_logloss: 0.0604906\n",
      "[159]\ttraining's auc: 0.949223\ttraining's binary_logloss: 0.0592487\tvalid_1's auc: 0.946714\tvalid_1's binary_logloss: 0.0604901\n",
      "[160]\ttraining's auc: 0.949232\ttraining's binary_logloss: 0.0592373\tvalid_1's auc: 0.946715\tvalid_1's binary_logloss: 0.0604888\n",
      "[161]\ttraining's auc: 0.949258\ttraining's binary_logloss: 0.0592294\tvalid_1's auc: 0.946726\tvalid_1's binary_logloss: 0.0604871\n",
      "[162]\ttraining's auc: 0.949283\ttraining's binary_logloss: 0.0592187\tvalid_1's auc: 0.946732\tvalid_1's binary_logloss: 0.060486\n",
      "[163]\ttraining's auc: 0.949305\ttraining's binary_logloss: 0.0592084\tvalid_1's auc: 0.946734\tvalid_1's binary_logloss: 0.0604862\n",
      "[164]\ttraining's auc: 0.949333\ttraining's binary_logloss: 0.0591964\tvalid_1's auc: 0.946738\tvalid_1's binary_logloss: 0.060484\n",
      "[165]\ttraining's auc: 0.94936\ttraining's binary_logloss: 0.0591849\tvalid_1's auc: 0.946739\tvalid_1's binary_logloss: 0.0604827\n",
      "[166]\ttraining's auc: 0.949394\ttraining's binary_logloss: 0.0591732\tvalid_1's auc: 0.946743\tvalid_1's binary_logloss: 0.0604808\n",
      "[167]\ttraining's auc: 0.949406\ttraining's binary_logloss: 0.0591625\tvalid_1's auc: 0.946744\tvalid_1's binary_logloss: 0.0604803\n",
      "[168]\ttraining's auc: 0.949418\ttraining's binary_logloss: 0.0591546\tvalid_1's auc: 0.946742\tvalid_1's binary_logloss: 0.060481\n",
      "[169]\ttraining's auc: 0.949446\ttraining's binary_logloss: 0.0591447\tvalid_1's auc: 0.946744\tvalid_1's binary_logloss: 0.0604798\n",
      "[170]\ttraining's auc: 0.949484\ttraining's binary_logloss: 0.0591325\tvalid_1's auc: 0.946767\tvalid_1's binary_logloss: 0.0604759\n",
      "[171]\ttraining's auc: 0.949495\ttraining's binary_logloss: 0.0591238\tvalid_1's auc: 0.946766\tvalid_1's binary_logloss: 0.0604754\n",
      "[172]\ttraining's auc: 0.9495\ttraining's binary_logloss: 0.0591153\tvalid_1's auc: 0.946766\tvalid_1's binary_logloss: 0.0604763\n",
      "[173]\ttraining's auc: 0.949517\ttraining's binary_logloss: 0.0591056\tvalid_1's auc: 0.94677\tvalid_1's binary_logloss: 0.0604752\n",
      "[174]\ttraining's auc: 0.949544\ttraining's binary_logloss: 0.0590962\tvalid_1's auc: 0.946779\tvalid_1's binary_logloss: 0.0604722\n",
      "[175]\ttraining's auc: 0.949619\ttraining's binary_logloss: 0.0590798\tvalid_1's auc: 0.946804\tvalid_1's binary_logloss: 0.0604664\n",
      "[176]\ttraining's auc: 0.94963\ttraining's binary_logloss: 0.0590708\tvalid_1's auc: 0.946806\tvalid_1's binary_logloss: 0.0604659\n",
      "[177]\ttraining's auc: 0.949641\ttraining's binary_logloss: 0.0590633\tvalid_1's auc: 0.946807\tvalid_1's binary_logloss: 0.060466\n",
      "[178]\ttraining's auc: 0.949651\ttraining's binary_logloss: 0.0590495\tvalid_1's auc: 0.94681\tvalid_1's binary_logloss: 0.0604614\n",
      "[179]\ttraining's auc: 0.94966\ttraining's binary_logloss: 0.0590387\tvalid_1's auc: 0.946811\tvalid_1's binary_logloss: 0.0604607\n",
      "[180]\ttraining's auc: 0.949664\ttraining's binary_logloss: 0.059031\tvalid_1's auc: 0.946811\tvalid_1's binary_logloss: 0.0604612\n",
      "[181]\ttraining's auc: 0.949676\ttraining's binary_logloss: 0.0590208\tvalid_1's auc: 0.946813\tvalid_1's binary_logloss: 0.0604605\n",
      "[182]\ttraining's auc: 0.949685\ttraining's binary_logloss: 0.0590126\tvalid_1's auc: 0.946816\tvalid_1's binary_logloss: 0.0604605\n",
      "[183]\ttraining's auc: 0.949705\ttraining's binary_logloss: 0.0590017\tvalid_1's auc: 0.946817\tvalid_1's binary_logloss: 0.06046\n",
      "[184]\ttraining's auc: 0.949759\ttraining's binary_logloss: 0.0589896\tvalid_1's auc: 0.946826\tvalid_1's binary_logloss: 0.0604598\n",
      "[185]\ttraining's auc: 0.949791\ttraining's binary_logloss: 0.0589792\tvalid_1's auc: 0.946838\tvalid_1's binary_logloss: 0.0604573\n",
      "[186]\ttraining's auc: 0.949821\ttraining's binary_logloss: 0.0589682\tvalid_1's auc: 0.946841\tvalid_1's binary_logloss: 0.0604567\n",
      "[187]\ttraining's auc: 0.949836\ttraining's binary_logloss: 0.0589578\tvalid_1's auc: 0.946844\tvalid_1's binary_logloss: 0.0604536\n",
      "[188]\ttraining's auc: 0.949849\ttraining's binary_logloss: 0.0589478\tvalid_1's auc: 0.946845\tvalid_1's binary_logloss: 0.0604528\n",
      "[189]\ttraining's auc: 0.949856\ttraining's binary_logloss: 0.0589384\tvalid_1's auc: 0.946846\tvalid_1's binary_logloss: 0.0604515\n",
      "[190]\ttraining's auc: 0.949875\ttraining's binary_logloss: 0.0589295\tvalid_1's auc: 0.946847\tvalid_1's binary_logloss: 0.0604509\n",
      "[191]\ttraining's auc: 0.949891\ttraining's binary_logloss: 0.0589206\tvalid_1's auc: 0.946848\tvalid_1's binary_logloss: 0.0604509\n",
      "[192]\ttraining's auc: 0.949906\ttraining's binary_logloss: 0.0589124\tvalid_1's auc: 0.946846\tvalid_1's binary_logloss: 0.0604517\n",
      "[193]\ttraining's auc: 0.949931\ttraining's binary_logloss: 0.0589017\tvalid_1's auc: 0.946857\tvalid_1's binary_logloss: 0.0604487\n",
      "[194]\ttraining's auc: 0.949952\ttraining's binary_logloss: 0.058894\tvalid_1's auc: 0.946857\tvalid_1's binary_logloss: 0.0604485\n",
      "[195]\ttraining's auc: 0.949992\ttraining's binary_logloss: 0.0588842\tvalid_1's auc: 0.946859\tvalid_1's binary_logloss: 0.0604472\n"
     ]
    },
    {
     "name": "stdout",
     "output_type": "stream",
     "text": [
      "[196]\ttraining's auc: 0.950031\ttraining's binary_logloss: 0.0588706\tvalid_1's auc: 0.946876\tvalid_1's binary_logloss: 0.0604419\n",
      "[197]\ttraining's auc: 0.950051\ttraining's binary_logloss: 0.0588596\tvalid_1's auc: 0.946882\tvalid_1's binary_logloss: 0.0604394\n",
      "[198]\ttraining's auc: 0.950097\ttraining's binary_logloss: 0.0588488\tvalid_1's auc: 0.946886\tvalid_1's binary_logloss: 0.0604365\n",
      "[199]\ttraining's auc: 0.950119\ttraining's binary_logloss: 0.0588384\tvalid_1's auc: 0.946885\tvalid_1's binary_logloss: 0.0604367\n",
      "[200]\ttraining's auc: 0.950134\ttraining's binary_logloss: 0.0588306\tvalid_1's auc: 0.946884\tvalid_1's binary_logloss: 0.0604373\n"
     ]
    },
    {
     "data": {
      "text/plain": [
       "LGBMClassifier(min_child_weight=10, n_estimators=200)"
      ]
     },
     "execution_count": 375,
     "metadata": {},
     "output_type": "execute_result"
    }
   ],
   "source": [
    "clf_lgb.fit(\n",
    "    ids_X_train, ids_y_train,\n",
    "    eval_set=[(ids_X_train, ids_y_train), (ids_X_test, ids_y_test)],\n",
    "    eval_metric=\"auc\", verbose=True,\n",
    ")"
   ]
  },
  {
   "cell_type": "code",
   "execution_count": 376,
   "metadata": {},
   "outputs": [
    {
     "data": {
      "text/plain": [
       "0.9465064362106773"
      ]
     },
     "execution_count": 376,
     "metadata": {},
     "output_type": "execute_result"
    }
   ],
   "source": [
    "prediction1 = clf_xgb.predict_proba(ids_X_test)[:, -1]\n",
    "roc_auc_score(ids_y_test, prediction1)"
   ]
  },
  {
   "cell_type": "code",
   "execution_count": 377,
   "metadata": {},
   "outputs": [
    {
     "data": {
      "text/plain": [
       "0.946647892835239"
      ]
     },
     "execution_count": 377,
     "metadata": {},
     "output_type": "execute_result"
    }
   ],
   "source": [
    "prediction2 = clf_cat.predict_proba(ids_X_test)[:, -1]\n",
    "roc_auc_score(ids_y_test, prediction2)"
   ]
  },
  {
   "cell_type": "code",
   "execution_count": 378,
   "metadata": {},
   "outputs": [
    {
     "data": {
      "text/plain": [
       "0.9468840881729528"
      ]
     },
     "execution_count": 378,
     "metadata": {},
     "output_type": "execute_result"
    }
   ],
   "source": [
    "prediction3 = clf_lgb.predict_proba(ids_X_test)[:, -1]\n",
    "roc_auc_score(ids_y_test, prediction3)"
   ]
  },
  {
   "cell_type": "code",
   "execution_count": 379,
   "metadata": {},
   "outputs": [
    {
     "data": {
      "text/plain": [
       "0.9474812602253828"
      ]
     },
     "execution_count": 379,
     "metadata": {},
     "output_type": "execute_result"
    }
   ],
   "source": [
    "prediction = (prediction1 + prediction2 + prediction3)\n",
    "roc_auc_score(ids_y_test, prediction)"
   ]
  },
  {
   "cell_type": "code",
   "execution_count": 380,
   "metadata": {},
   "outputs": [],
   "source": [
    "predDetails = pd.DataFrame({\"sess_id\" : ids_sess_test.astype(int),\n",
    "                            \"item\" : ids_item_test.astype(int), \"score\" : prediction})"
   ]
  },
  {
   "cell_type": "code",
   "execution_count": 381,
   "metadata": {},
   "outputs": [],
   "source": [
    "ix_bests = predDetails.groupby(\"sess_id\")[\"score\"].idxmax()"
   ]
  },
  {
   "cell_type": "code",
   "execution_count": 382,
   "metadata": {},
   "outputs": [
    {
     "data": {
      "text/plain": [
       "0.22390140476905054"
      ]
     },
     "execution_count": 382,
     "metadata": {},
     "output_type": "execute_result"
    }
   ],
   "source": [
    "accuracy_score(target[zp:], predDetails.loc[ix_bests, \"item\"])"
   ]
  },
  {
   "cell_type": "code",
   "execution_count": null,
   "metadata": {},
   "outputs": [],
   "source": []
  },
  {
   "cell_type": "markdown",
   "metadata": {},
   "source": [
    "<hr>"
   ]
  },
  {
   "cell_type": "markdown",
   "metadata": {},
   "source": [
    "## Submission"
   ]
  },
  {
   "cell_type": "code",
   "execution_count": 383,
   "metadata": {},
   "outputs": [],
   "source": [
    "ind_sub = pd.read_csv(\"data/knn/inds_sub.csv\", header = None).values[:, :20]\n",
    "recomms_sub =  pd.read_csv(\"data/knn/recomms_sub.csv\", header = None).values[:, :20]\n",
    "knndists_sub = pd.read_csv(\"data/knn/dists_sub.csv\", header = None).values[:, :20]"
   ]
  },
  {
   "cell_type": "code",
   "execution_count": 384,
   "metadata": {},
   "outputs": [],
   "source": [
    "X_train, y_train, ydom_train = uhs_train, target, domain\n",
    "X_test = uhs_test\n",
    "\n",
    "vista_compra_train = get_vista_compra_l10(X_train, y_train) #l10 here improves dom pos2\n",
    "vista_count_train = get_vista_count(X_train)\n",
    "compra_count_train = pd.Series(y_train).value_counts()\n",
    "#     compra_count_train = get_compra_count_power(X_train, y_train)\n",
    "domain_count_train = pd.Series(ydom_train).value_counts()"
   ]
  },
  {
   "cell_type": "code",
   "execution_count": 385,
   "metadata": {},
   "outputs": [],
   "source": [
    "graph_data_sub = get_graphdata(uhs_test)\n",
    "sess_node_features_sub = np.array(get_sess_node_features(graph_data_sub))"
   ]
  },
  {
   "cell_type": "code",
   "execution_count": 386,
   "metadata": {},
   "outputs": [],
   "source": [
    "dummy_session_id = np.arange(len(X_test))"
   ]
  },
  {
   "cell_type": "code",
   "execution_count": 387,
   "metadata": {},
   "outputs": [
    {
     "name": "stdout",
     "output_type": "stream",
     "text": [
      "Wall time: 1min 26s\n"
     ]
    }
   ],
   "source": [
    "%%time\n",
    "item_ds_sub = get_item_ds(X_test,\n",
    "        vista_compra_train, vista_count_train, compra_count_train, domain_count_train,\n",
    "                          recomms_sub, knndists_sub, dummy_session_id, sess_node_features_sub)"
   ]
  },
  {
   "cell_type": "code",
   "execution_count": 388,
   "metadata": {},
   "outputs": [],
   "source": [
    "item_ds_sub_plus = get_extra_ids_features(item_ds_sub)"
   ]
  },
  {
   "cell_type": "code",
   "execution_count": 389,
   "metadata": {},
   "outputs": [],
   "source": [
    "prediction1 = clf_xgb.predict_proba(item_ds_sub_plus[:,2:])[:, -1]"
   ]
  },
  {
   "cell_type": "code",
   "execution_count": 390,
   "metadata": {},
   "outputs": [],
   "source": [
    "prediction2 = clf_cat.predict_proba(item_ds_sub_plus[:,2:])[:, -1]"
   ]
  },
  {
   "cell_type": "code",
   "execution_count": 391,
   "metadata": {},
   "outputs": [],
   "source": [
    "prediction3 = clf_lgb.predict_proba(item_ds_sub_plus[:,2:])[:, -1]"
   ]
  },
  {
   "cell_type": "code",
   "execution_count": 392,
   "metadata": {},
   "outputs": [],
   "source": [
    "prediction = (prediction1 + prediction2 + prediction3)"
   ]
  },
  {
   "cell_type": "code",
   "execution_count": 393,
   "metadata": {},
   "outputs": [],
   "source": [
    "ids_item, ids_sess = item_ds_sub_plus[:, 1], item_ds_sub_plus[:, 0]"
   ]
  },
  {
   "cell_type": "code",
   "execution_count": 394,
   "metadata": {},
   "outputs": [],
   "source": [
    "predDetails = pd.DataFrame({\"sess_id\" : ids_sess.astype(int),\n",
    "                            \"item\" : ids_item.astype(int), \"score\" : prediction})"
   ]
  },
  {
   "cell_type": "code",
   "execution_count": 395,
   "metadata": {},
   "outputs": [],
   "source": [
    "ix_bests = predDetails.groupby(\"sess_id\")[\"score\"].idxmax()"
   ]
  },
  {
   "cell_type": "code",
   "execution_count": 396,
   "metadata": {},
   "outputs": [],
   "source": [
    "sess_scores = dict()\n",
    "for (sess_id, item), score in zip(predDetails[[\"sess_id\", \"item\"]].values, predDetails[\"score\"].values):\n",
    "    if sess_id in sess_scores:\n",
    "        sess_scores[sess_id].append((score, item))\n",
    "    else:\n",
    "        sess_scores[sess_id] = [(score, item)]"
   ]
  },
  {
   "cell_type": "code",
   "execution_count": 397,
   "metadata": {},
   "outputs": [],
   "source": [
    "sess_ids = sorted(predDetails[\"sess_id\"].unique())"
   ]
  },
  {
   "cell_type": "code",
   "execution_count": 398,
   "metadata": {},
   "outputs": [],
   "source": [
    "top10prediction = []\n",
    "for sess_id in sess_ids:\n",
    "    x = sess_scores[sess_id]\n",
    "    x = sorted(x, reverse = True)\n",
    "    pred = [item for score, item in x]\n",
    "    pred = pred + [-1] * 10\n",
    "    pred = pred[:10]\n",
    "    top10prediction.append(pred)"
   ]
  },
  {
   "cell_type": "code",
   "execution_count": 399,
   "metadata": {},
   "outputs": [],
   "source": [
    "prediction, dom_preds = predict_vc4(X_test,\n",
    "        vista_compra_train, vista_count_train,\n",
    "        compra_count_train, domain_count_train,\n",
    "        recomms_sub, knndists_sub, top10prediction)"
   ]
  },
  {
   "cell_type": "code",
   "execution_count": null,
   "metadata": {},
   "outputs": [],
   "source": []
  },
  {
   "cell_type": "code",
   "execution_count": 400,
   "metadata": {},
   "outputs": [],
   "source": [
    "submission = pd.DataFrame(prediction)"
   ]
  },
  {
   "cell_type": "code",
   "execution_count": 401,
   "metadata": {},
   "outputs": [],
   "source": [
    "submission.to_csv(\"submissions/RANKER04.csv\", sep = ',', header = False, index = False)"
   ]
  },
  {
   "cell_type": "code",
   "execution_count": 402,
   "metadata": {},
   "outputs": [
    {
     "name": "stdout",
     "output_type": "stream",
     "text": [
      "1572239,1717880,1439187,1864599,350187,1006988,457681,758382,1652445,762780\n",
      "\n",
      "849692,943786,1506643,17614,1898817,1199728,997446,1155969,123190,1010719\n",
      "\n",
      "1453414,2032477,1614538,1362449,167018,1219935,539599,659207,1425924,1260633\n",
      "\n"
     ]
    }
   ],
   "source": [
    "with open(\"submissions/RANKER04.csv\", \"r\") as f:\n",
    "    for i in range(3):\n",
    "        print(f.readline())"
   ]
  },
  {
   "cell_type": "code",
   "execution_count": null,
   "metadata": {},
   "outputs": [],
   "source": [
    "# score"
   ]
  }
 ],
 "metadata": {
  "kernelspec": {
   "display_name": "Python 3",
   "language": "python",
   "name": "python3"
  },
  "language_info": {
   "codemirror_mode": {
    "name": "ipython",
    "version": 3
   },
   "file_extension": ".py",
   "mimetype": "text/x-python",
   "name": "python",
   "nbconvert_exporter": "python",
   "pygments_lexer": "ipython3",
   "version": "3.7.9"
  }
 },
 "nbformat": 4,
 "nbformat_minor": 4
}
